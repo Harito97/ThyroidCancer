{
  "cells": [
    {
      "cell_type": "code",
      "execution_count": null,
      "metadata": {
        "id": "ZyO4IVd4-rKn"
      },
      "outputs": [],
      "source": [
        "# importing the libraries\n",
        "import numpy as np\n",
        "import pandas as pd\n",
        "import matplotlib.pyplot as plt\n",
        "from glob import glob"
      ]
    },
    {
      "cell_type": "code",
      "execution_count": null,
      "metadata": {
        "id": "8QBQ71Zg_J4U"
      },
      "outputs": [],
      "source": [
        "# loading the directories\n",
        "training_dir = '/content/drive/MyDrive/Colab/Data/train_valid_test/train/'\n",
        "validation_dir = '/content/drive/MyDrive/Colab/Data/train_valid_test/valid/'\n",
        "test_dir = '/content/drive/MyDrive/Colab/Data/train_valid_test/test/'"
      ]
    },
    {
      "cell_type": "code",
      "execution_count": null,
      "metadata": {
        "id": "FmzETJLI_ZPo"
      },
      "outputs": [],
      "source": [
        "# useful for getting number of files\n",
        "image_files = glob(training_dir + '/*/*.jp*g')\n",
        "valid_image_files = glob(validation_dir + '/*/*.jp*g')"
      ]
    },
    {
      "cell_type": "code",
      "execution_count": null,
      "metadata": {
        "colab": {
          "base_uri": "https://localhost:8080/"
        },
        "id": "SrqXLGu-_byF",
        "outputId": "61f64f97-90d2-4c54-c23a-7bd1c4995c8a"
      },
      "outputs": [
        {
          "name": "stdout",
          "output_type": "stream",
          "text": [
            "Total Classes = 3\n"
          ]
        }
      ],
      "source": [
        "# getting the number of classes i.e. type of fruits\n",
        "folders = glob(training_dir + '/*')\n",
        "num_classes = len(folders)\n",
        "print ('Total Classes = ' + str(num_classes))"
      ]
    },
    {
      "cell_type": "code",
      "execution_count": null,
      "metadata": {
        "id": "kqK6bm4k_zUp"
      },
      "outputs": [],
      "source": [
        "# importing the libraries\n",
        "from keras.models import Model\n",
        "from keras.layers import Flatten, Dense\n",
        "from keras.applications import VGG16\n",
        "#from keras.preprocessing import image\n",
        "\n",
        "IMAGE_SIZE = [224, 224]  # we will keep the image size as (64,64). You can increase the size for better results.\n",
        "\n",
        "# loading the weights of VGG16 without the top layer. These weights are trained on Imagenet dataset.\n",
        "vgg = VGG16(input_shape = IMAGE_SIZE + [3], weights = 'imagenet', include_top = False)  # input_shape = (64,64,3) as required by VGG\n",
        "\n",
        "#... thêm các drop off ở giữa để làm ngẫu nhiên các tham số về sau \n",
        "\n",
        "# this will exclude the initial layers from training phase as there are already been trained.\n",
        "for layer in vgg.layers:\n",
        "    layer.trainable = False\n",
        "\n",
        "x = Flatten()(vgg.output)\n",
        "#x = Dense(128, activation = 'relu')(x)   # we can add a new fully connected layer but it will increase the execution time.\n",
        "# num_classes = 3   # B2, B5, B6\n",
        "x = Dense(num_classes, activation = 'softmax')(x)  # adding the output layer with softmax function as this is a multi label classification problem.\n",
        "#... tầng Dense này chưa giải quyết được tình trạng over fit\n",
        "\n",
        "model = Model(inputs = vgg.input, outputs = x)\n",
        "\n",
        "model.compile(loss='categorical_crossentropy', optimizer='adam', metrics=['accuracy'])"
      ]
    },
    {
      "cell_type": "code",
      "execution_count": null,
      "metadata": {
        "colab": {
          "base_uri": "https://localhost:8080/"
        },
        "id": "J_krapE6_5FW",
        "outputId": "c3c49629-078f-440e-c207-78c97dffc295"
      },
      "outputs": [
        {
          "name": "stdout",
          "output_type": "stream",
          "text": [
            "Model: \"model_1\"\n",
            "_________________________________________________________________\n",
            " Layer (type)                Output Shape              Param #   \n",
            "=================================================================\n",
            " input_2 (InputLayer)        [(None, 224, 224, 3)]     0         \n",
            "                                                                 \n",
            " block1_conv1 (Conv2D)       (None, 224, 224, 64)      1792      \n",
            "                                                                 \n",
            " block1_conv2 (Conv2D)       (None, 224, 224, 64)      36928     \n",
            "                                                                 \n",
            " block1_pool (MaxPooling2D)  (None, 112, 112, 64)      0         \n",
            "                                                                 \n",
            " block2_conv1 (Conv2D)       (None, 112, 112, 128)     73856     \n",
            "                                                                 \n",
            " block2_conv2 (Conv2D)       (None, 112, 112, 128)     147584    \n",
            "                                                                 \n",
            " block2_pool (MaxPooling2D)  (None, 56, 56, 128)       0         \n",
            "                                                                 \n",
            " block3_conv1 (Conv2D)       (None, 56, 56, 256)       295168    \n",
            "                                                                 \n",
            " block3_conv2 (Conv2D)       (None, 56, 56, 256)       590080    \n",
            "                                                                 \n",
            " block3_conv3 (Conv2D)       (None, 56, 56, 256)       590080    \n",
            "                                                                 \n",
            " block3_pool (MaxPooling2D)  (None, 28, 28, 256)       0         \n",
            "                                                                 \n",
            " block4_conv1 (Conv2D)       (None, 28, 28, 512)       1180160   \n",
            "                                                                 \n",
            " block4_conv2 (Conv2D)       (None, 28, 28, 512)       2359808   \n",
            "                                                                 \n",
            " block4_conv3 (Conv2D)       (None, 28, 28, 512)       2359808   \n",
            "                                                                 \n",
            " block4_pool (MaxPooling2D)  (None, 14, 14, 512)       0         \n",
            "                                                                 \n",
            " block5_conv1 (Conv2D)       (None, 14, 14, 512)       2359808   \n",
            "                                                                 \n",
            " block5_conv2 (Conv2D)       (None, 14, 14, 512)       2359808   \n",
            "                                                                 \n",
            " block5_conv3 (Conv2D)       (None, 14, 14, 512)       2359808   \n",
            "                                                                 \n",
            " block5_pool (MaxPooling2D)  (None, 7, 7, 512)         0         \n",
            "                                                                 \n",
            " flatten_1 (Flatten)         (None, 25088)             0         \n",
            "                                                                 \n",
            " dense_1 (Dense)             (None, 3)                 75267     \n",
            "                                                                 \n",
            "=================================================================\n",
            "Total params: 14789955 (56.42 MB)\n",
            "Trainable params: 75267 (294.01 KB)\n",
            "Non-trainable params: 14714688 (56.13 MB)\n",
            "_________________________________________________________________\n"
          ]
        }
      ],
      "source": [
        "model.summary()"
      ]
    },
    {
      "cell_type": "code",
      "execution_count": null,
      "metadata": {
        "colab": {
          "base_uri": "https://localhost:8080/"
        },
        "id": "XaIEftcW_61n",
        "outputId": "e2f5aea6-6cc1-47b1-ec12-763c64d2ce14"
      },
      "outputs": [
        {
          "name": "stdout",
          "output_type": "stream",
          "text": [
            "Found 7698 images belonging to 3 classes.\n",
            "Found 954 images belonging to 3 classes.\n"
          ]
        }
      ],
      "source": [
        "# Image Augmentation\n",
        "\n",
        "from keras.preprocessing.image import ImageDataGenerator\n",
        "from keras.applications.vgg16 import preprocess_input\n",
        "\n",
        "IMAGE_SIZE = [224, 224]\n",
        "\n",
        "training_datagen = ImageDataGenerator(\n",
        "                                    rescale=1./255,   # all pixel values will be between 0 an 1\n",
        "                                    shear_range=0.2,\n",
        "                                    zoom_range=0.2,\n",
        "                                    horizontal_flip=True,\n",
        "                                    preprocessing_function=preprocess_input)\n",
        "\n",
        "validation_datagen = ImageDataGenerator(rescale = 1./255, preprocessing_function=preprocess_input)\n",
        "\n",
        "training_generator = training_datagen.flow_from_directory(training_dir, target_size = IMAGE_SIZE, batch_size = 64, class_mode = 'categorical')\n",
        "validation_generator = validation_datagen.flow_from_directory(validation_dir, target_size = IMAGE_SIZE, batch_size = 64, class_mode = 'categorical')"
      ]
    },
    {
      "cell_type": "code",
      "execution_count": null,
      "metadata": {
        "colab": {
          "base_uri": "https://localhost:8080/"
        },
        "id": "aUMF0J-tAN-u",
        "outputId": "30fb91f3-4f81-47af-c15e-1353bc741872"
      },
      "outputs": [
        {
          "data": {
            "text/plain": [
              "{'B2': 0, 'B5': 1, 'B6': 2}"
            ]
          },
          "execution_count": 18,
          "metadata": {},
          "output_type": "execute_result"
        }
      ],
      "source": [
        "# The labels are stored in class_indices in dictionary form.\n",
        "# checking the labels\n",
        "training_generator.class_indices"
      ]
    },
    {
      "cell_type": "markdown",
      "metadata": {
        "id": "2EcXgSYAC2Sw"
      },
      "source": [
        "Đoạn code dưới đây dùng để train lại model mình đã train trước đó"
      ]
    },
    {
      "cell_type": "code",
      "execution_count": null,
      "metadata": {
        "id": "0nMepXlwCsGT"
      },
      "outputs": [],
      "source": [
        "from keras.models import load_model\n",
        "\n",
        "# Tải mô hình đã lưu\n",
        "model = load_model('/content/drive/MyDrive/Colab/Model/model_epoch_04_val_accuracy_0.80.keras')"
      ]
    },
    {
      "cell_type": "code",
      "execution_count": null,
      "metadata": {
        "id": "j6Qu8iPWJsmA"
      },
      "outputs": [],
      "source": [
        "from keras.callbacks import ModelCheckpoint\n",
        "checkpoint = ModelCheckpoint(filepath='/content/drive/MyDrive/Colab/Model/model_epoch_2_{epoch:02d}_val_accuracy_{val_accuracy:.2f}.keras', save_freq='epoch')"
      ]
    },
    {
      "cell_type": "code",
      "execution_count": null,
      "metadata": {
        "colab": {
          "background_save": true,
          "base_uri": "https://localhost:8080/"
        },
        "id": "8eRmGf1UJ3hU",
        "outputId": "ea8e92a5-c41c-4c49-c75d-55e491805d0e"
      },
      "outputs": [
        {
          "name": "stdout",
          "output_type": "stream",
          "text": [
            "Epoch 1/7\n",
            "121/121 [==============================] - 4746s 39s/step - loss: 0.3001 - accuracy: 0.8724 - val_loss: 0.4531 - val_accuracy: 0.7904\n",
            "Epoch 2/7\n",
            "121/121 [==============================] - 4800s 40s/step - loss: 0.3069 - accuracy: 0.8624 - val_loss: 0.5971 - val_accuracy: 0.7390\n",
            "Epoch 3/7\n",
            "121/121 [==============================] - 4648s 38s/step - loss: 0.2738 - accuracy: 0.8804 - val_loss: 0.4834 - val_accuracy: 0.7904\n",
            "Epoch 4/7\n",
            "121/121 [==============================] - 4632s 38s/step - loss: 0.2592 - accuracy: 0.8915 - val_loss: 0.4668 - val_accuracy: 0.7925\n",
            "Epoch 5/7\n",
            "121/121 [==============================] - 4589s 38s/step - loss: 0.2579 - accuracy: 0.8948 - val_loss: 0.4704 - val_accuracy: 0.7977\n",
            "Epoch 6/7\n",
            "121/121 [==============================] - 4610s 38s/step - loss: 0.2663 - accuracy: 0.8878 - val_loss: 0.5127 - val_accuracy: 0.7725\n",
            "Epoch 7/7\n",
            "121/121 [==============================] - 4729s 39s/step - loss: 0.2495 - accuracy: 0.8930 - val_loss: 0.5164 - val_accuracy: 0.7746\n"
          ]
        }
      ],
      "source": [
        "history = model.fit(training_generator,\n",
        "          epochs=7,\n",
        "          validation_data=validation_generator,\n",
        "          callbacks=[checkpoint])"
      ]
    },
    {
      "cell_type": "code",
      "execution_count": null,
      "metadata": {
        "colab": {
          "background_save": true
        },
        "id": "g3UONUDrSeCv"
      },
      "outputs": [],
      "source": [
        "# Lưu mô hình cùng với trạng thái của trình tối ưu hóa\n",
        "model.save('/content/drive/MyDrive/Colab/Model/vgg16_model_1.keras')"
      ]
    },
    {
      "cell_type": "code",
      "execution_count": null,
      "metadata": {
        "colab": {
          "background_save": true
        },
        "id": "25gKBwAOAWMc",
        "outputId": "53f34a3a-4012-4a7e-cb75-2a350682820c"
      },
      "outputs": [
        {
          "name": "stdout",
          "output_type": "stream",
          "text": [
            "Training Accuracy = [0.8724343776702881, 0.8624318242073059, 0.8803585171699524, 0.8915302753448486, 0.8947778940200806, 0.8877630829811096, 0.8929592370986938]\n",
            "Validation Accuracy = [0.7903563976287842, 0.7389937043190002, 0.7903563976287842, 0.7924528121948242, 0.7976939082145691, 0.7725366950035095, 0.7746331095695496]\n"
          ]
        }
      ],
      "source": [
        "# In độ chính xác đào tạo và xác thực\n",
        "# Đây là kết quả 2 lần epoch đầu tiên:\n",
        "# Training Accuracy = [0.7166796326637268, 0.7898155450820923]\n",
        "# Validation Accuracy = [0.7809224128723145, 0.6855345964431763]\n",
        "print('Training Accuracy = ' + str(history.history['accuracy']))\n",
        "print('Validation Accuracy = ' + str(history.history['val_accuracy']))"
      ]
    },
    {
      "cell_type": "code",
      "execution_count": null,
      "metadata": {
        "colab": {
          "background_save": true
        },
        "id": "pEx82vgMnbYr",
        "outputId": "0de5eb0f-f7cb-4342-fc24-77b017a81d59"
      },
      "outputs": [
        {
          "data": {
            "image/png": "[encoded data removed]",
            "text/plain": [
              "<Figure size 640x480 with 1 Axes>"
            ]
          },
          "metadata": {},
          "output_type": "display_data"
        },
        {
          "data": {
            "image/png": "[encoded data removed]",
            "text/plain": [
              "<Figure size 640x480 with 1 Axes>"
            ]
          },
          "metadata": {},
          "output_type": "display_data"
        }
      ],
      "source": [
        "# accuracies\n",
        "plt.plot(history.history['accuracy'], label='train acc')\n",
        "plt.plot(history.history['val_accuracy'], label='val acc')\n",
        "plt.legend()\n",
        "plt.savefig('vgg-acc-rps-1.png')\n",
        "plt.show()\n",
        "\n",
        "# loss\n",
        "plt.plot(history.history['loss'], label='train loss')\n",
        "plt.plot(history.history['val_loss'], label='val loss')\n",
        "plt.legend()\n",
        "plt.savefig('vgg-loss-rps-1.png')\n",
        "plt.show()"
      ]
    },
    {
      "cell_type": "code",
      "execution_count": null,
      "metadata": {
        "id": "VjjsAkr65SAv"
      },
      "outputs": [],
      "source": [
        "from keras.models import load_model\n",
        "\n",
        "# Tải mô hình đã lưu\n",
        "# model = load_model('/content/drive/MyDrive/Colab/Model/vgg16_model_1.keras')\n",
        "model = load_model('/content/drive/MyDrive/Colab/Model/model_epoch_2_07_val_accuracy_0.77.keras')"
      ]
    },
    {
      "cell_type": "code",
      "execution_count": null,
      "metadata": {
        "colab": {
          "base_uri": "https://localhost:8080/"
        },
        "id": "vSfpN6O4oC-K",
        "outputId": "946ce041-7c8a-4e5f-eade-6e7228c8d329"
      },
      "outputs": [
        {
          "name": "stdout",
          "output_type": "stream",
          "text": [
            "Found 1491 images belonging to 3 classes.\n"
          ]
        }
      ],
      "source": [
        "x_test=[]\n",
        "test_path = '/content/drive/MyDrive/Colab/Data/train_valid_test/test'\n",
        "\n",
        "import os, cv2\n",
        "import numpy as np\n",
        "for folder in os.listdir(test_path):\n",
        "    sub_path=test_path+\"/\"+folder\n",
        "    for img in os.listdir(sub_path):\n",
        "        image_path=sub_path+\"/\"+img\n",
        "        img_arr=cv2.imread(image_path)\n",
        "        img_arr=cv2.resize(img_arr,(224,224))\n",
        "        img_arr=img_arr/255.0\n",
        "        x_test.append(img_arr)\n",
        "\n",
        "test_x=np.array(x_test)\n",
        "\n",
        "from keras.preprocessing.image import ImageDataGenerator\n",
        "test_datagen = ImageDataGenerator(rescale = 1./255)\n",
        "test_set = test_datagen.flow_from_directory(test_path,\n",
        "                                            target_size = (224, 224),\n",
        "                                            batch_size = 32,\n",
        "                                            class_mode = 'sparse')\n",
        "test_y=test_set.classes"
      ]
    },
    {
      "cell_type": "code",
      "execution_count": null,
      "metadata": {
        "colab": {
          "base_uri": "https://localhost:8080/"
        },
        "id": "YBPPjseVnse6",
        "outputId": "cfedf4cd-87c2-46af-c815-b8d6d98d2ba1"
      },
      "outputs": [
        {
          "name": "stdout",
          "output_type": "stream",
          "text": [
            "47/47 [==============================] - 806s 17s/step\n"
          ]
        }
      ],
      "source": [
        "from sklearn.metrics import accuracy_score,classification_report,confusion_matrix\n",
        "import numpy as np\n",
        "\n",
        "#predict\n",
        "y_pred=model.predict(test_x)"
      ]
    },
    {
      "cell_type": "code",
      "execution_count": null,
      "metadata": {
        "id": "qb6xbQR4u2E4"
      },
      "outputs": [],
      "source": [
        "y_pred_=np.argmax(y_pred, axis=1)"
      ]
    },
    {
      "cell_type": "code",
      "execution_count": null,
      "metadata": {
        "colab": {
          "base_uri": "https://localhost:8080/"
        },
        "id": "6Vk6kl-z4waa",
        "outputId": "8097abf7-9aab-41a1-b5da-478230ff6a21"
      },
      "outputs": [
        {
          "name": "stdout",
          "output_type": "stream",
          "text": [
            "(1491, 3) (1491,) (1491,)\n"
          ]
        }
      ],
      "source": [
        "print(y_pred.shape, y_pred_.shape, test_y.shape)"
      ]
    },
    {
      "cell_type": "code",
      "execution_count": null,
      "metadata": {
        "colab": {
          "base_uri": "https://localhost:8080/"
        },
        "id": "JnSOquLops8x",
        "outputId": "a29c76ea-9b67-4cef-aa09-d28fe0b85537"
      },
      "outputs": [
        {
          "name": "stdout",
          "output_type": "stream",
          "text": [
            "[1 1 1 1 1 1 1 1 1 2 2 2 1 2 2 1 1 1 1 1 1 2 1 2 1 1 1 1 2 1 1 1 2 2 1 1 1\n",
            " 2 1 2 1 1 2 2 1 2 2 1 1 1]\n",
            "[0 0 0 0 0 0 0 0 0 0 0 0 0 0 0 0 0 0 0 0 0 0 0 0 0 0 0 0 0 0 0 0 0 0 0 0 0\n",
            " 0 0 0 0 0 0 0 0 0 0 0 0 0]\n"
          ]
        }
      ],
      "source": [
        "print(y_pred_[:50])\n",
        "print(test_y[:50])"
      ]
    },
    {
      "cell_type": "code",
      "execution_count": null,
      "metadata": {
        "colab": {
          "base_uri": "https://localhost:8080/"
        },
        "id": "n7l0HAxZuzUr",
        "outputId": "16bc6b37-c893-438f-ebe3-ffda090b8596"
      },
      "outputs": [
        {
          "name": "stdout",
          "output_type": "stream",
          "text": [
            "              precision    recall  f1-score   support\n",
            "\n",
            "           0       0.01      0.01      0.01       401\n",
            "           1       0.15      0.17      0.16       436\n",
            "           2       0.86      0.66      0.75       654\n",
            "\n",
            "    accuracy                           0.34      1491\n",
            "   macro avg       0.34      0.28      0.30      1491\n",
            "weighted avg       0.42      0.34      0.37      1491\n",
            "\n",
            "[[  3 395   3]\n",
            " [298  73  65]\n",
            " [196  29 429]]\n"
          ]
        }
      ],
      "source": [
        "#get classification report\n",
        "print(classification_report(y_pred_, test_y))\n",
        "\n",
        "#get confusion matrix\n",
        "print(confusion_matrix(y_pred_, test_y))"
      ]
    },
    {
      "cell_type": "code",
      "execution_count": null,
      "metadata": {
        "id": "l3GyAITFx6Xp"
      },
      "outputs": [],
      "source": [
        "# import cv2\n",
        "# # Tải ảnh vào một mảng NumPy\n",
        "# # image = cv2.imread('/content/drive/MyDrive/Colab/Data/train_valid_test/test/B5/B5_0_z5021000001378_1e7342c46548eb446b5a389f07bf35d1.jpg')\n",
        "# image = cv2.imread('/content/drive/MyDrive/Colab/Data/train_valid_test/test/B6/B6_4_Image_142030.jpg')\n",
        "# image = cv2.resize(image, (224, 224))\n",
        "\n",
        "# # Chuẩn hóa ảnh\n",
        "# image = image / 255.0\n",
        "\n",
        "# # Thêm một chiều lô vào ảnh\n",
        "# image = np.expand_dims(image, axis=0)\n",
        "\n",
        "# # Dự đoán trên ảnh\n",
        "# predictions = model.predict(image)\n",
        "\n",
        "# # In các xác suất cho mỗi lớp\n",
        "# print(predictions)"
      ]
    }
  ],
  "metadata": {
    "accelerator": "GPU",
    "colab": {
      "gpuType": "T4",
      "provenance": []
    },
    "kernelspec": {
      "display_name": "Python 3",
      "name": "python3"
    },
    "language_info": {
      "name": "python"
    }
  },
  "nbformat": 4,
  "nbformat_minor": 0
}
