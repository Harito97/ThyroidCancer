{
  "cells": [
    {
      "cell_type": "code",
      "execution_count": 1,
      "metadata": {
        "id": "ZyO4IVd4-rKn"
      },
      "outputs": [],
      "source": [
        "# importing the libraries\n",
        "import numpy as np\n",
        "import pandas as pd\n",
        "import matplotlib.pyplot as plt\n",
        "from glob import glob"
      ]
    },
    {
      "cell_type": "code",
      "execution_count": 2,
      "metadata": {
        "id": "8QBQ71Zg_J4U"
      },
      "outputs": [],
      "source": [
        "# loading the directories\n",
        "training_dir = '/content/drive/MyDrive/Colab/Data/train_valid_test_1/train/'\n",
        "validation_dir = '/content/drive/MyDrive/Colab/Data/train_valid_test_1/valid/'\n",
        "test_dir = '/content/drive/MyDrive/Colab/Data/train_valid_test_1/test/'"
      ]
    },
    {
      "cell_type": "code",
      "execution_count": 5,
      "metadata": {
        "id": "FmzETJLI_ZPo"
      },
      "outputs": [],
      "source": [
        "# useful for getting number of files\n",
        "image_files = glob(training_dir + '/*/*.jp*g')\n",
        "valid_image_files = glob(validation_dir + '/*/*.jp*g')\n",
        "test_images_files = glob(test_dir + '/*/*.jp*g')"
      ]
    },
    {
      "cell_type": "code",
      "execution_count": 4,
      "metadata": {
        "colab": {
          "base_uri": "https://localhost:8080/"
        },
        "id": "SrqXLGu-_byF",
        "outputId": "6c604ea3-52f4-4aa5-d8d2-368a8ae9d099"
      },
      "outputs": [
        {
          "output_type": "stream",
          "name": "stdout",
          "text": [
            "Total Classes = 3\n"
          ]
        }
      ],
      "source": [
        "# getting the number of classes i.e. type of fruits\n",
        "folders = glob(training_dir + '/*')\n",
        "num_classes = len(folders)\n",
        "print ('Total Classes = ' + str(num_classes))"
      ]
    },
    {
      "cell_type": "code",
      "execution_count": 6,
      "metadata": {
        "id": "kqK6bm4k_zUp"
      },
      "outputs": [],
      "source": [
        "# importing the libraries\n",
        "from keras.models import Model\n",
        "from keras.layers import Flatten, Dense\n",
        "from keras.applications import VGG19\n",
        "#from keras.preprocessing import image\n",
        "\n",
        "IMAGE_SIZE = [224, 224]  # we will keep the image size as (64,64). You can increase the size for better results.\n",
        "\n",
        "# loading the weights of VGG16 without the top layer. These weights are trained on Imagenet dataset.\n",
        "vgg = VGG19(input_shape = IMAGE_SIZE + [3], weights = 'imagenet', include_top = False)  # input_shape = (64,64,3) as required by VGG\n",
        "\n",
        "# this will exclude the initial layers from training phase as there are already been trained.\n",
        "for layer in vgg.layers:\n",
        "    layer.trainable = False\n",
        "\n",
        "x = Flatten()(vgg.output)\n",
        "#x = Dense(128, activation = 'relu')(x)   # we can add a new fully connected layer but it will increase the execution time.\n",
        "# num_classes = 3   # B2, B5, B6\n",
        "x = Dense(num_classes, activation = 'softmax')(x)  # adding the output layer with softmax function as this is a multi label classification problem.\n",
        "\n",
        "model = Model(inputs = vgg.input, outputs = x)\n",
        "\n",
        "model.compile(loss='categorical_crossentropy', optimizer='adam', metrics=['accuracy'])"
      ]
    },
    {
      "cell_type": "code",
      "execution_count": 7,
      "metadata": {
        "colab": {
          "base_uri": "https://localhost:8080/"
        },
        "id": "J_krapE6_5FW",
        "outputId": "68b13874-6b2f-4d8d-b8f7-9ab26d0dd049"
      },
      "outputs": [
        {
          "output_type": "stream",
          "name": "stdout",
          "text": [
            "Model: \"model\"\n",
            "_________________________________________________________________\n",
            " Layer (type)                Output Shape              Param #   \n",
            "=================================================================\n",
            " input_1 (InputLayer)        [(None, 224, 224, 3)]     0         \n",
            "                                                                 \n",
            " block1_conv1 (Conv2D)       (None, 224, 224, 64)      1792      \n",
            "                                                                 \n",
            " block1_conv2 (Conv2D)       (None, 224, 224, 64)      36928     \n",
            "                                                                 \n",
            " block1_pool (MaxPooling2D)  (None, 112, 112, 64)      0         \n",
            "                                                                 \n",
            " block2_conv1 (Conv2D)       (None, 112, 112, 128)     73856     \n",
            "                                                                 \n",
            " block2_conv2 (Conv2D)       (None, 112, 112, 128)     147584    \n",
            "                                                                 \n",
            " block2_pool (MaxPooling2D)  (None, 56, 56, 128)       0         \n",
            "                                                                 \n",
            " block3_conv1 (Conv2D)       (None, 56, 56, 256)       295168    \n",
            "                                                                 \n",
            " block3_conv2 (Conv2D)       (None, 56, 56, 256)       590080    \n",
            "                                                                 \n",
            " block3_conv3 (Conv2D)       (None, 56, 56, 256)       590080    \n",
            "                                                                 \n",
            " block3_conv4 (Conv2D)       (None, 56, 56, 256)       590080    \n",
            "                                                                 \n",
            " block3_pool (MaxPooling2D)  (None, 28, 28, 256)       0         \n",
            "                                                                 \n",
            " block4_conv1 (Conv2D)       (None, 28, 28, 512)       1180160   \n",
            "                                                                 \n",
            " block4_conv2 (Conv2D)       (None, 28, 28, 512)       2359808   \n",
            "                                                                 \n",
            " block4_conv3 (Conv2D)       (None, 28, 28, 512)       2359808   \n",
            "                                                                 \n",
            " block4_conv4 (Conv2D)       (None, 28, 28, 512)       2359808   \n",
            "                                                                 \n",
            " block4_pool (MaxPooling2D)  (None, 14, 14, 512)       0         \n",
            "                                                                 \n",
            " block5_conv1 (Conv2D)       (None, 14, 14, 512)       2359808   \n",
            "                                                                 \n",
            " block5_conv2 (Conv2D)       (None, 14, 14, 512)       2359808   \n",
            "                                                                 \n",
            " block5_conv3 (Conv2D)       (None, 14, 14, 512)       2359808   \n",
            "                                                                 \n",
            " block5_conv4 (Conv2D)       (None, 14, 14, 512)       2359808   \n",
            "                                                                 \n",
            " block5_pool (MaxPooling2D)  (None, 7, 7, 512)         0         \n",
            "                                                                 \n",
            " flatten (Flatten)           (None, 25088)             0         \n",
            "                                                                 \n",
            " dense (Dense)               (None, 3)                 75267     \n",
            "                                                                 \n",
            "=================================================================\n",
            "Total params: 20099651 (76.67 MB)\n",
            "Trainable params: 75267 (294.01 KB)\n",
            "Non-trainable params: 20024384 (76.39 MB)\n",
            "_________________________________________________________________\n"
          ]
        }
      ],
      "source": [
        "model.summary()"
      ]
    },
    {
      "cell_type": "code",
      "execution_count": 8,
      "metadata": {
        "colab": {
          "base_uri": "https://localhost:8080/"
        },
        "id": "XaIEftcW_61n",
        "outputId": "581708fa-1922-412d-f0b0-5266701d16ab"
      },
      "outputs": [
        {
          "output_type": "stream",
          "name": "stdout",
          "text": [
            "Found 4537 images belonging to 3 classes.\n",
            "Found 377 images belonging to 3 classes.\n",
            "Found 568 images belonging to 3 classes.\n"
          ]
        }
      ],
      "source": [
        "# Image Augmentation\n",
        "\n",
        "from keras.preprocessing.image import ImageDataGenerator\n",
        "from keras.applications.vgg16 import preprocess_input\n",
        "\n",
        "IMAGE_SIZE = [224, 224]\n",
        "\n",
        "training_datagen = ImageDataGenerator(\n",
        "                                    rescale=1./255,   # all pixel values will be between 0 an 1\n",
        "                                    shear_range=0.2,\n",
        "                                    zoom_range=0.2,\n",
        "                                    horizontal_flip=True,\n",
        "                                    preprocessing_function=preprocess_input)\n",
        "\n",
        "validation_datagen = ImageDataGenerator(rescale = 1./255, preprocessing_function=preprocess_input)\n",
        "test_datagen = ImageDataGenerator(rescale = 1./255, preprocessing_function=preprocess_input)\n",
        "\n",
        "training_generator = training_datagen.flow_from_directory(training_dir, target_size = IMAGE_SIZE, batch_size = 64, class_mode = 'categorical')\n",
        "validation_generator = validation_datagen.flow_from_directory(validation_dir, target_size = IMAGE_SIZE, batch_size = 64, class_mode = 'categorical')\n",
        "test_generator = test_datagen.flow_from_directory(test_dir, target_size = IMAGE_SIZE, batch_size = 64, class_mode = 'categorical')\n"
      ]
    },
    {
      "cell_type": "code",
      "execution_count": 9,
      "metadata": {
        "colab": {
          "base_uri": "https://localhost:8080/"
        },
        "id": "aUMF0J-tAN-u",
        "outputId": "8ec131ab-12e0-4648-8ced-9b157baf3ff5"
      },
      "outputs": [
        {
          "output_type": "execute_result",
          "data": {
            "text/plain": [
              "{'B2': 0, 'B5': 1, 'B6': 2}"
            ]
          },
          "metadata": {},
          "execution_count": 9
        }
      ],
      "source": [
        "# The labels are stored in class_indices in dictionary form.\n",
        "# checking the labels\n",
        "training_generator.class_indices"
      ]
    },
    {
      "cell_type": "markdown",
      "metadata": {
        "id": "2EcXgSYAC2Sw"
      },
      "source": [
        "Đoạn code dưới đây dùng để train lại model mình đã train trước đó"
      ]
    },
    {
      "cell_type": "code",
      "execution_count": null,
      "metadata": {
        "id": "0nMepXlwCsGT"
      },
      "outputs": [],
      "source": [
        "from keras.models import load_model\n",
        "\n",
        "# Tải mô hình đã lưu\n",
        "# model = load_model('/content/drive/MyDrive/Colab/Model/model_epoch_04_val_accuracy_0.80.keras')"
      ]
    },
    {
      "cell_type": "code",
      "execution_count": 10,
      "metadata": {
        "id": "j6Qu8iPWJsmA"
      },
      "outputs": [],
      "source": [
        "from keras.callbacks import ModelCheckpoint\n",
        "checkpoint = ModelCheckpoint(filepath='/content/drive/MyDrive/Colab/Model/model_epoch_3_23032024_{epoch:02d}_accuracy_{accuracy:.2f}_val_accuracy_{val_accuracy:.2f}.keras', save_freq='epoch')"
      ]
    },
    {
      "cell_type": "code",
      "execution_count": 11,
      "metadata": {
        "colab": {
          "base_uri": "https://localhost:8080/"
        },
        "id": "8eRmGf1UJ3hU",
        "outputId": "bcf0faa1-fa75-4fe2-a969-fde05a077db9"
      },
      "outputs": [
        {
          "output_type": "stream",
          "name": "stdout",
          "text": [
            "Epoch 1/7\n",
            "71/71 [==============================] - 3525s 49s/step - loss: 0.7264 - accuracy: 0.7485 - val_loss: 0.6488 - val_accuracy: 0.6844\n",
            "Epoch 2/7\n",
            "71/71 [==============================] - 3521s 50s/step - loss: 0.3994 - accuracy: 0.8279 - val_loss: 0.5591 - val_accuracy: 0.7480\n",
            "Epoch 3/7\n",
            "71/71 [==============================] - 3423s 48s/step - loss: 0.3677 - accuracy: 0.8470 - val_loss: 0.5633 - val_accuracy: 0.7401\n",
            "Epoch 4/7\n",
            "71/71 [==============================] - 3409s 48s/step - loss: 0.3292 - accuracy: 0.8614 - val_loss: 0.6400 - val_accuracy: 0.7321\n",
            "Epoch 5/7\n",
            "71/71 [==============================] - 3436s 48s/step - loss: 0.3183 - accuracy: 0.8627 - val_loss: 0.5433 - val_accuracy: 0.7401\n",
            "Epoch 6/7\n",
            "71/71 [==============================] - 3419s 48s/step - loss: 0.3298 - accuracy: 0.8581 - val_loss: 0.5980 - val_accuracy: 0.7454\n",
            "Epoch 7/7\n",
            "71/71 [==============================] - 3408s 48s/step - loss: 0.3096 - accuracy: 0.8667 - val_loss: 0.5424 - val_accuracy: 0.7586\n"
          ]
        }
      ],
      "source": [
        "history = model.fit(training_generator,\n",
        "          epochs=7,\n",
        "          validation_data=validation_generator,\n",
        "          callbacks=[checkpoint])"
      ]
    },
    {
      "cell_type": "code",
      "execution_count": null,
      "metadata": {
        "colab": {
          "background_save": true
        },
        "id": "g3UONUDrSeCv"
      },
      "outputs": [],
      "source": [
        "# Lưu mô hình cùng với trạng thái của trình tối ưu hóa\n",
        "model.save('/content/drive/MyDrive/Colab/Model/vgg16_model_1.keras')"
      ]
    },
    {
      "cell_type": "code",
      "execution_count": 12,
      "metadata": {
        "colab": {
          "base_uri": "https://localhost:8080/"
        },
        "id": "25gKBwAOAWMc",
        "outputId": "11e746c4-b0e2-48db-c60f-3630c9cc792f"
      },
      "outputs": [
        {
          "output_type": "stream",
          "name": "stdout",
          "text": [
            "Training Accuracy = [0.7485122084617615, 0.8278598189353943, 0.8470354676246643, 0.8613621592521667, 0.8626846075057983, 0.8580560088157654, 0.8666519522666931]\n",
            "Validation Accuracy = [0.6843501329421997, 0.7480106353759766, 0.7400530576705933, 0.73209547996521, 0.7400530576705933, 0.7453581094741821, 0.7586206793785095]\n"
          ]
        }
      ],
      "source": [
        "# In độ chính xác đào tạo và xác thực\n",
        "# Đây là kết quả 2 lần epoch đầu tiên:\n",
        "# Training Accuracy = [0.7166796326637268, 0.7898155450820923]\n",
        "# Validation Accuracy = [0.7809224128723145, 0.6855345964431763]\n",
        "print('Training Accuracy = ' + str(history.history['accuracy']))\n",
        "print('Validation Accuracy = ' + str(history.history['val_accuracy']))"
      ]
    },
    {
      "cell_type": "code",
      "execution_count": 13,
      "metadata": {
        "colab": {
          "base_uri": "https://localhost:8080/",
          "height": 847
        },
        "id": "pEx82vgMnbYr",
        "outputId": "dfdfaeaa-78bb-4bb6-bc90-7f3d160a47a3"
      },
      "outputs": [
        {
          "output_type": "display_data",
          "data": {
            "text/plain": [
              "<Figure size 640x480 with 1 Axes>"
            ],
            "image/png": "[encoded data removed]"
          },
          "metadata": {}
        },
        {
          "output_type": "display_data",
          "data": {
            "text/plain": [
              "<Figure size 640x480 with 1 Axes>"
            ],
            "image/png": "[encoded data removed]"
          },
          "metadata": {}
        }
      ],
      "source": [
        "# accuracies\n",
        "plt.plot(history.history['accuracy'], label='train acc')\n",
        "plt.plot(history.history['val_accuracy'], label='val acc')\n",
        "plt.legend()\n",
        "plt.savefig('vgg-acc-rps-1.png')\n",
        "plt.show()\n",
        "\n",
        "# loss\n",
        "plt.plot(history.history['loss'], label='train loss')\n",
        "plt.plot(history.history['val_loss'], label='val loss')\n",
        "plt.legend()\n",
        "plt.savefig('vgg-loss-rps-1.png')\n",
        "plt.show()"
      ]
    },
    {
      "cell_type": "code",
      "execution_count": null,
      "metadata": {
        "id": "VjjsAkr65SAv"
      },
      "outputs": [],
      "source": [
        "from keras.models import load_model\n",
        "\n",
        "# Tải mô hình đã lưu\n",
        "# model = load_model('/content/drive/MyDrive/Colab/Model/vgg16_model_1.keras')\n",
        "model = load_model('/content/drive/MyDrive/Colab/Model/model_epoch_2_07_val_accuracy_0.77.keras')"
      ]
    },
    {
      "cell_type": "code",
      "execution_count": 14,
      "metadata": {
        "colab": {
          "base_uri": "https://localhost:8080/"
        },
        "id": "vSfpN6O4oC-K",
        "outputId": "92f6a904-3bd0-4eb1-f428-a5d695b420ff"
      },
      "outputs": [
        {
          "output_type": "stream",
          "name": "stdout",
          "text": [
            "Found 1491 images belonging to 3 classes.\n"
          ]
        }
      ],
      "source": [
        "x_test=[]\n",
        "test_path = '/content/drive/MyDrive/Colab/Data/train_valid_test/test'\n",
        "\n",
        "import os, cv2\n",
        "import numpy as np\n",
        "for folder in os.listdir(test_path):\n",
        "    sub_path=test_path+\"/\"+folder\n",
        "    for img in os.listdir(sub_path):\n",
        "        image_path=sub_path+\"/\"+img\n",
        "        img_arr=cv2.imread(image_path)\n",
        "        img_arr=cv2.resize(img_arr,(224,224))\n",
        "        img_arr=img_arr/255.0\n",
        "        x_test.append(img_arr)\n",
        "\n",
        "test_x=np.array(x_test)\n",
        "\n",
        "from keras.preprocessing.image import ImageDataGenerator\n",
        "test_datagen = ImageDataGenerator(rescale = 1./255)\n",
        "test_set = test_datagen.flow_from_directory(test_path,\n",
        "                                            target_size = (224, 224),\n",
        "                                            batch_size = 32,\n",
        "                                            class_mode = 'sparse')\n",
        "test_y=test_set.classes"
      ]
    },
    {
      "cell_type": "code",
      "execution_count": 15,
      "metadata": {
        "id": "YBPPjseVnse6",
        "colab": {
          "base_uri": "https://localhost:8080/"
        },
        "outputId": "dd9fee27-e14c-4e66-85c2-57a52efa3ca8"
      },
      "outputs": [
        {
          "output_type": "stream",
          "name": "stdout",
          "text": [
            "47/47 [==============================] - 1024s 22s/step\n"
          ]
        }
      ],
      "source": [
        "from sklearn.metrics import accuracy_score,classification_report,confusion_matrix\n",
        "import numpy as np\n",
        "\n",
        "#predict\n",
        "y_pred=model.predict(test_x)"
      ]
    },
    {
      "cell_type": "code",
      "execution_count": 16,
      "metadata": {
        "id": "qb6xbQR4u2E4"
      },
      "outputs": [],
      "source": [
        "y_pred_=np.argmax(y_pred, axis=1)"
      ]
    },
    {
      "cell_type": "code",
      "execution_count": 17,
      "metadata": {
        "id": "6Vk6kl-z4waa",
        "colab": {
          "base_uri": "https://localhost:8080/"
        },
        "outputId": "2a506659-2302-4ff4-aae7-db46838232d7"
      },
      "outputs": [
        {
          "output_type": "stream",
          "name": "stdout",
          "text": [
            "(1491, 3) (1491,) (1491,)\n"
          ]
        }
      ],
      "source": [
        "print(y_pred.shape, y_pred_.shape, test_y.shape)"
      ]
    },
    {
      "cell_type": "code",
      "source": [
        "print(y_pred_[:50])\n",
        "print(test_y[:50])"
      ],
      "metadata": {
        "colab": {
          "base_uri": "https://localhost:8080/"
        },
        "id": "JnSOquLops8x",
        "outputId": "eadcecb0-d501-4442-fc22-1e022f04e939"
      },
      "execution_count": 18,
      "outputs": [
        {
          "output_type": "stream",
          "name": "stdout",
          "text": [
            "[1 1 1 1 1 1 1 1 0 2 2 2 2 1 2 1 1 1 1 2 2 2 2 1 2 2 1 1 2 1 1 2 1 1 1 1 1\n",
            " 1 1 2 1 1 2 2 2 2 2 1 2 2]\n",
            "[0 0 0 0 0 0 0 0 0 0 0 0 0 0 0 0 0 0 0 0 0 0 0 0 0 0 0 0 0 0 0 0 0 0 0 0 0\n",
            " 0 0 0 0 0 0 0 0 0 0 0 0 0]\n"
          ]
        }
      ]
    },
    {
      "cell_type": "code",
      "execution_count": 19,
      "metadata": {
        "id": "n7l0HAxZuzUr",
        "colab": {
          "base_uri": "https://localhost:8080/"
        },
        "outputId": "1c3a567c-20a6-4226-c443-b30f7273dfdc"
      },
      "outputs": [
        {
          "output_type": "stream",
          "name": "stdout",
          "text": [
            "              precision    recall  f1-score   support\n",
            "\n",
            "           0       0.02      0.02      0.02       412\n",
            "           1       0.08      0.12      0.09       330\n",
            "           2       0.87      0.57      0.69       749\n",
            "\n",
            "    accuracy                           0.32      1491\n",
            "   macro avg       0.32      0.24      0.27      1491\n",
            "weighted avg       0.46      0.32      0.37      1491\n",
            "\n",
            "[[  8 400   4]\n",
            " [228  39  63]\n",
            " [261  58 430]]\n"
          ]
        }
      ],
      "source": [
        "#get classification report\n",
        "print(classification_report(y_pred_, test_y))\n",
        "\n",
        "#get confusion matrix\n",
        "print(confusion_matrix(y_pred_, test_y))"
      ]
    },
    {
      "cell_type": "code",
      "execution_count": null,
      "metadata": {
        "id": "l3GyAITFx6Xp"
      },
      "outputs": [],
      "source": [
        "# import cv2\n",
        "# # Tải ảnh vào một mảng NumPy\n",
        "# # image = cv2.imread('/content/drive/MyDrive/Colab/Data/train_valid_test/test/B5/B5_0_z5021000001378_1e7342c46548eb446b5a389f07bf35d1.jpg')\n",
        "# image = cv2.imread('/content/drive/MyDrive/Colab/Data/train_valid_test/test/B6/B6_4_Image_142030.jpg')\n",
        "# image = cv2.resize(image, (224, 224))\n",
        "\n",
        "# # Chuẩn hóa ảnh\n",
        "# image = image / 255.0\n",
        "\n",
        "# # Thêm một chiều lô vào ảnh\n",
        "# image = np.expand_dims(image, axis=0)\n",
        "\n",
        "# # Dự đoán trên ảnh\n",
        "# predictions = model.predict(image)\n",
        "\n",
        "# # In các xác suất cho mỗi lớp\n",
        "# print(predictions)"
      ]
    }
  ],
  "metadata": {
    "accelerator": "GPU",
    "colab": {
      "gpuType": "T4",
      "provenance": []
    },
    "kernelspec": {
      "display_name": "Python 3",
      "name": "python3"
    },
    "language_info": {
      "name": "python"
    }
  },
  "nbformat": 4,
  "nbformat_minor": 0
}