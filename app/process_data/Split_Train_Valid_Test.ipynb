{
 "cells": [
  {
   "cell_type": "markdown",
   "metadata": {},
   "source": [
    "# Phân chia ngẫu nhiên dữ liệu "
   ]
  },
  {
   "cell_type": "code",
   "execution_count": null,
   "metadata": {},
   "outputs": [],
   "source": []
  },
  {
   "cell_type": "code",
   "execution_count": 1,
   "metadata": {},
   "outputs": [],
   "source": [
    "import os\n",
    "import shutil\n",
    "import random"
   ]
  },
  {
   "cell_type": "code",
   "execution_count": 2,
   "metadata": {},
   "outputs": [
    {
     "name": "stdout",
     "output_type": "stream",
     "text": [
      "/mnt/DataK/Project/ThyroidCancer/app/process_data\n"
     ]
    }
   ],
   "source": [
    "!pwd"
   ]
  },
  {
   "cell_type": "code",
   "execution_count": 3,
   "metadata": {},
   "outputs": [
    {
     "name": "stdout",
     "output_type": "stream",
     "text": [
      "/mnt/DataK/Project/ThyroidCancer\n"
     ]
    }
   ],
   "source": [
    "dataset_info = dict()\n",
    "\n",
    "# change to home project\n",
    "cwd = os.getcwd()\n",
    "if cwd[-13:] != \"ThyroidCancer\":\n",
    "    os.chdir(cwd[:-16])  \n",
    "print(os.getcwd())\n",
    "\n",
    "# Đường dẫn tới thư mục chứa ảnh\n",
    "image_dir = 'data/processed_data/patch_level/run/'\n",
    "\n",
    "# Tạo thư mục train, valid, test\n",
    "train_dir = 'data/processed_data/patch_level/train_valid_test_1/train/'\n",
    "valid_dir = 'data/processed_data/patch_level/train_valid_test_1/valid/'\n",
    "test_dir = 'data/processed_data/patch_level/train_valid_test_1/test/'\n",
    "\n",
    "os.makedirs(train_dir, exist_ok=True)\n",
    "os.makedirs(valid_dir, exist_ok=True)\n",
    "os.makedirs(test_dir, exist_ok=True)\n",
    "\n",
    "# Tạo thư mục nhãn trong từng tập\n",
    "labels = ['B2', 'B5', 'B6']\n",
    "dataset_info['labels'] = labels\n",
    "\n",
    "for label in labels:\n",
    "    os.makedirs(os.path.join(train_dir, label), exist_ok=True)\n",
    "    os.makedirs(os.path.join(valid_dir, label), exist_ok=True)\n",
    "    os.makedirs(os.path.join(test_dir, label), exist_ok=True)\n"
   ]
  },
  {
   "cell_type": "code",
   "execution_count": 4,
   "metadata": {},
   "outputs": [
    {
     "ename": "KeyboardInterrupt",
     "evalue": "",
     "output_type": "error",
     "traceback": [
      "\u001b[0;31m---------------------------------------------------------------------------\u001b[0m",
      "\u001b[0;31mKeyboardInterrupt\u001b[0m                         Traceback (most recent call last)",
      "Cell \u001b[0;32mIn[4], line 33\u001b[0m\n\u001b[1;32m     31\u001b[0m             dst_path \u001b[38;5;241m=\u001b[39m os\u001b[38;5;241m.\u001b[39mpath\u001b[38;5;241m.\u001b[39mjoin(test_dir, label, image)   \n\u001b[1;32m     32\u001b[0m             data_test_label[label] \u001b[38;5;241m+\u001b[39m\u001b[38;5;241m=\u001b[39m \u001b[38;5;241m1\u001b[39m \n\u001b[0;32m---> 33\u001b[0m         \u001b[43mshutil\u001b[49m\u001b[38;5;241;43m.\u001b[39;49m\u001b[43mcopy\u001b[49m\u001b[43m(\u001b[49m\u001b[43msrc_path\u001b[49m\u001b[43m,\u001b[49m\u001b[43m \u001b[49m\u001b[43mdst_path\u001b[49m\u001b[43m)\u001b[49m\n\u001b[1;32m     35\u001b[0m dataset_info[\u001b[38;5;124m'\u001b[39m\u001b[38;5;124mdata_train_label\u001b[39m\u001b[38;5;124m'\u001b[39m] \u001b[38;5;241m=\u001b[39m data_train_label\n\u001b[1;32m     36\u001b[0m dataset_info[\u001b[38;5;124m'\u001b[39m\u001b[38;5;124mdata_valid_label\u001b[39m\u001b[38;5;124m'\u001b[39m] \u001b[38;5;241m=\u001b[39m data_valid_label\n",
      "File \u001b[0;32m/usr/lib/python3.11/shutil.py:431\u001b[0m, in \u001b[0;36mcopy\u001b[0;34m(src, dst, follow_symlinks)\u001b[0m\n\u001b[1;32m    429\u001b[0m \u001b[38;5;28;01mif\u001b[39;00m os\u001b[38;5;241m.\u001b[39mpath\u001b[38;5;241m.\u001b[39misdir(dst):\n\u001b[1;32m    430\u001b[0m     dst \u001b[38;5;241m=\u001b[39m os\u001b[38;5;241m.\u001b[39mpath\u001b[38;5;241m.\u001b[39mjoin(dst, os\u001b[38;5;241m.\u001b[39mpath\u001b[38;5;241m.\u001b[39mbasename(src))\n\u001b[0;32m--> 431\u001b[0m \u001b[43mcopyfile\u001b[49m\u001b[43m(\u001b[49m\u001b[43msrc\u001b[49m\u001b[43m,\u001b[49m\u001b[43m \u001b[49m\u001b[43mdst\u001b[49m\u001b[43m,\u001b[49m\u001b[43m \u001b[49m\u001b[43mfollow_symlinks\u001b[49m\u001b[38;5;241;43m=\u001b[39;49m\u001b[43mfollow_symlinks\u001b[49m\u001b[43m)\u001b[49m\n\u001b[1;32m    432\u001b[0m copymode(src, dst, follow_symlinks\u001b[38;5;241m=\u001b[39mfollow_symlinks)\n\u001b[1;32m    433\u001b[0m \u001b[38;5;28;01mreturn\u001b[39;00m dst\n",
      "File \u001b[0;32m/usr/lib/python3.11/shutil.py:235\u001b[0m, in \u001b[0;36mcopyfile\u001b[0;34m(src, dst, follow_symlinks)\u001b[0m\n\u001b[1;32m    227\u001b[0m \u001b[38;5;250m\u001b[39m\u001b[38;5;124;03m\"\"\"Copy data from src to dst in the most efficient way possible.\u001b[39;00m\n\u001b[1;32m    228\u001b[0m \n\u001b[1;32m    229\u001b[0m \u001b[38;5;124;03mIf follow_symlinks is not set and src is a symbolic link, a new\u001b[39;00m\n\u001b[1;32m    230\u001b[0m \u001b[38;5;124;03msymlink will be created instead of copying the file it points to.\u001b[39;00m\n\u001b[1;32m    231\u001b[0m \n\u001b[1;32m    232\u001b[0m \u001b[38;5;124;03m\"\"\"\u001b[39;00m\n\u001b[1;32m    233\u001b[0m sys\u001b[38;5;241m.\u001b[39maudit(\u001b[38;5;124m\"\u001b[39m\u001b[38;5;124mshutil.copyfile\u001b[39m\u001b[38;5;124m\"\u001b[39m, src, dst)\n\u001b[0;32m--> 235\u001b[0m \u001b[38;5;28;01mif\u001b[39;00m \u001b[43m_samefile\u001b[49m\u001b[43m(\u001b[49m\u001b[43msrc\u001b[49m\u001b[43m,\u001b[49m\u001b[43m \u001b[49m\u001b[43mdst\u001b[49m\u001b[43m)\u001b[49m:\n\u001b[1;32m    236\u001b[0m     \u001b[38;5;28;01mraise\u001b[39;00m SameFileError(\u001b[38;5;124m\"\u001b[39m\u001b[38;5;132;01m{!r}\u001b[39;00m\u001b[38;5;124m and \u001b[39m\u001b[38;5;132;01m{!r}\u001b[39;00m\u001b[38;5;124m are the same file\u001b[39m\u001b[38;5;124m\"\u001b[39m\u001b[38;5;241m.\u001b[39mformat(src, dst))\n\u001b[1;32m    238\u001b[0m file_size \u001b[38;5;241m=\u001b[39m \u001b[38;5;241m0\u001b[39m\n",
      "File \u001b[0;32m/usr/lib/python3.11/shutil.py:212\u001b[0m, in \u001b[0;36m_samefile\u001b[0;34m(src, dst)\u001b[0m\n\u001b[1;32m    210\u001b[0m \u001b[38;5;28;01mif\u001b[39;00m \u001b[38;5;28mhasattr\u001b[39m(os\u001b[38;5;241m.\u001b[39mpath, \u001b[38;5;124m'\u001b[39m\u001b[38;5;124msamefile\u001b[39m\u001b[38;5;124m'\u001b[39m):\n\u001b[1;32m    211\u001b[0m     \u001b[38;5;28;01mtry\u001b[39;00m:\n\u001b[0;32m--> 212\u001b[0m         \u001b[38;5;28;01mreturn\u001b[39;00m \u001b[43mos\u001b[49m\u001b[38;5;241;43m.\u001b[39;49m\u001b[43mpath\u001b[49m\u001b[38;5;241;43m.\u001b[39;49m\u001b[43msamefile\u001b[49m\u001b[43m(\u001b[49m\u001b[43msrc\u001b[49m\u001b[43m,\u001b[49m\u001b[43m \u001b[49m\u001b[43mdst\u001b[49m\u001b[43m)\u001b[49m\n\u001b[1;32m    213\u001b[0m     \u001b[38;5;28;01mexcept\u001b[39;00m \u001b[38;5;167;01mOSError\u001b[39;00m:\n\u001b[1;32m    214\u001b[0m         \u001b[38;5;28;01mreturn\u001b[39;00m \u001b[38;5;28;01mFalse\u001b[39;00m\n",
      "File \u001b[0;32m<frozen genericpath>:100\u001b[0m, in \u001b[0;36msamefile\u001b[0;34m(f1, f2)\u001b[0m\n",
      "\u001b[0;31mKeyboardInterrupt\u001b[0m: "
     ]
    }
   ],
   "source": [
    "# Đọc danh sách tất cả các ảnh\n",
    "all_images = os.listdir(image_dir)\n",
    "random.shuffle(all_images)\n",
    "\n",
    "# Tính số lượng ảnh cho mỗi nhãn\n",
    "num_images = len(all_images)\n",
    "dataset_info['total number of images'] = num_images\n",
    "num_train_images = int(0.75 * num_images)\n",
    "num_valid_images = int(0.10 * num_images)\n",
    "dataset_info['num_train_images_should_be'] = num_train_images\n",
    "dataset_info['num_valid_images_should_be'] = num_valid_images\n",
    "dataset_info['num_test_images_should_be'] = num_images - num_train_images - num_valid_images\n",
    "\n",
    "data_train_label = {'B2': 0, 'B5': 0, 'B6': 0}\n",
    "data_valid_label = {'B2': 0, 'B5': 0, 'B6': 0}\n",
    "data_test_label = {'B2': 0, 'B5': 0, 'B6': 0}\n",
    "\n",
    "# Cách này có thể không làm đảm bảo cân bằng dữ liệu (nhưng đảm bảo đều ra cả 3 tập)\n",
    "# Phân chia ảnh vào các thư mục train, valid và test\n",
    "for i, image in enumerate(all_images):\n",
    "    label = image[:2]\n",
    "    src_path = os.path.join(image_dir, image)\n",
    "    if label in labels:\n",
    "        if i < num_train_images:\n",
    "            dst_path = os.path.join(train_dir, label, image)\n",
    "            data_train_label[label] += 1\n",
    "        elif num_train_images <= i < (num_train_images + num_valid_images):\n",
    "            dst_path = os.path.join(valid_dir, label, image)\n",
    "            data_valid_label[label] += 1\n",
    "        else:\n",
    "            dst_path = os.path.join(test_dir, label, image)   \n",
    "            data_test_label[label] += 1 \n",
    "        shutil.copy(src_path, dst_path)\n",
    "\n",
    "dataset_info['data_train_label'] = data_train_label\n",
    "dataset_info['data_valid_label'] = data_valid_label\n",
    "dataset_info['data_test_label'] = data_test_label"
   ]
  },
  {
   "cell_type": "code",
   "execution_count": null,
   "metadata": {},
   "outputs": [],
   "source": [
    "from collections import defaultdict\n",
    "\n",
    "# Tính số lượng ảnh cho mỗi nhãn\n",
    "label_counts = defaultdict(int)\n",
    "for image in all_images:\n",
    "    label = image[:2]\n",
    "    if label in labels:\n",
    "        label_counts[label] += 1\n",
    "dataset_info['label_counts'] = label_counts\n",
    "\n",
    "# Tính số lượng ảnh cho mỗi nhãn trong từng tập\n",
    "num_train_images_per_label = int(num_train_images / len(labels))\n",
    "num_valid_images_per_label = int(num_valid_images / len(labels))\n",
    "dataset_info['num_train_images_should_be_per_label'] = num_train_images_per_label\n",
    "dataset_info['num_valid_images_should_be_per_label'] = num_valid_images_per_label\n"
   ]
  },
  {
   "cell_type": "code",
   "execution_count": null,
   "metadata": {},
   "outputs": [
    {
     "name": "stdout",
     "output_type": "stream",
     "text": [
      "{'labels': ['B2', 'B5', 'B6'], 'total number of images': 4942, 'num_train_images_should_be': 3706, 'num_valid_images_should_be': 494, 'num_test_images_should_be': 742, 'data_train_label': {'B2': 184, 'B5': 956, 'B6': 2566}, 'data_valid_label': {'B2': 30, 'B5': 146, 'B6': 318}, 'data_test_label': {'B2': 41, 'B5': 204, 'B6': 497}, 'label_counts': defaultdict(<class 'int'>, {'B6': 3381, 'B5': 1306, 'B2': 255}), 'num_train_images_should_be_per_label': 1235, 'num_valid_images_should_be_per_label': 164}\n"
     ]
    }
   ],
   "source": [
    "print(dataset_info)"
   ]
  },
  {
   "cell_type": "markdown",
   "metadata": {},
   "source": [
    "# Làm cân bằng dữ liệu "
   ]
  },
  {
   "cell_type": "code",
   "execution_count": null,
   "metadata": {},
   "outputs": [
    {
     "name": "stdout",
     "output_type": "stream",
     "text": [
      "/mnt/DataK/Project/ThyroidCancer\n"
     ]
    }
   ],
   "source": [
    "!pwd"
   ]
  },
  {
   "cell_type": "code",
   "execution_count": null,
   "metadata": {},
   "outputs": [
    {
     "data": {
      "text/plain": [
       "10143"
      ]
     },
     "execution_count": 8,
     "metadata": {},
     "output_type": "execute_result"
    }
   ],
   "source": [
    "(2566+318+497) * 3"
   ]
  },
  {
   "cell_type": "code",
   "execution_count": null,
   "metadata": {},
   "outputs": [],
   "source": [
    "import os\n",
    "import random\n",
    "from PIL import Image\n",
    "import shutil\n",
    "\n",
    "# Đường dẫn đến thư mục chứa các thư mục nhãn\n",
    "data_dirs = 'data/processed_data/patch_level/train_valid_test/'\n",
    "# Số lượng ảnh mong muốn cho mỗi nhãn\n",
    "target_counts = {'train': 2566, 'valid': 318, 'test': 497}\n",
    "# (2566+318+497) * 3\n",
    "labels = ['B2', 'B5', 'B6']\n",
    "\n",
    "# Hàm kiểm tra số lượng ảnh trong thư mục\n",
    "def count_images_in_directory(directory):\n",
    "    return len([name for name in os.listdir(directory) if os.path.isfile(os.path.join(directory, name))])\n"
   ]
  },
  {
   "cell_type": "code",
   "execution_count": null,
   "metadata": {},
   "outputs": [],
   "source": [
    "import random\n",
    "from PIL import Image\n",
    "import os\n",
    "\n",
    "def balance_image_counts(directory=data_dirs, target_counts=target_counts, labels=labels):\n",
    "    for dataset, target_count in target_counts.items():\n",
    "        dataset_dir = os.path.join(directory, dataset)  # dataset có train, valid, test\n",
    "        # print(dataset_dir)\n",
    "        for label in labels:\n",
    "            # label có B2, B5, B6\n",
    "            label_dir = os.path.join(dataset_dir, label)\n",
    "            current_count = count_images_in_directory(label_dir)\n",
    "            # print(label_dir)\n",
    "            if current_count < target_count:\n",
    "                print(f\"Balancing images for label {label}...\")\n",
    "                while current_count < target_count:\n",
    "                    # Chọn ngẫu nhiên một ảnh từ thư mục gốc\n",
    "                    ref_image = random.choice(os.listdir(label_dir))\n",
    "                    ref_image_path = os.path.join(label_dir, ref_image)\n",
    "                    # Tạo tên mới cho ảnh được nhân đôi\n",
    "                    new_image_name = f\"copied_{current_count}.jpg\"\n",
    "                    new_image_path = os.path.join(label_dir, new_image_name)\n",
    "                    # Mở ảnh\n",
    "                    image = Image.open(ref_image_path)\n",
    "                    # Xoay ảnh một góc ngẫu nhiên trong khoảng [0, 90, 180, 270] độ\n",
    "                    angle = random.choice([0, 90, 180, 270])\n",
    "                    image = image.rotate(angle)\n",
    "                    # Lưu ảnh đã xoay\n",
    "                    image.save(new_image_path)\n",
    "                    # Cập nhật số lượng ảnh\n",
    "                    current_count += 1"
   ]
  },
  {
   "cell_type": "code",
   "execution_count": null,
   "metadata": {},
   "outputs": [
    {
     "name": "stdout",
     "output_type": "stream",
     "text": [
      "Balancing images for label B2...\n",
      "Balancing images for label B5...\n",
      "Balancing images for label B2...\n",
      "Balancing images for label B5...\n",
      "Balancing images for label B2...\n",
      "Balancing images for label B5...\n"
     ]
    }
   ],
   "source": [
    "balance_image_counts()"
   ]
  },
  {
   "cell_type": "code",
   "execution_count": null,
   "metadata": {},
   "outputs": [],
   "source": [
    "# Check\n",
    "train_B2_path = '/mnt/DataK/Project/ThyroidCancer/data/processed_data/patch_level/train_valid_test/train/B2'\n",
    "train_B2_path = '/mnt/DataK/Project/ThyroidCancer/data/processed_data/patch_level/train_valid_test/train/B5'\n",
    "train_B6_path = '/mnt/DataK/Project/ThyroidCancer/data/processed_data/patch_level/train_valid_test/train/B6'\n",
    "\n",
    "valid_B2_path = '/mnt/DataK/Project/ThyroidCancer/data/processed_data/patch_level/train_valid_test/valid/B2'\n",
    "valid_B5_path = '/mnt/DataK/Project/ThyroidCancer/data/processed_data/patch_level/train_valid_test/valid/B5'\n",
    "valid_B6_path = '/mnt/DataK/Project/ThyroidCancer/data/processed_data/patch_level/train_valid_test/valid/B6'\n",
    "\n",
    "test_B2_path = '/mnt/DataK/Project/ThyroidCancer/data/processed_data/patch_level/train_valid_test/test/B2'\n",
    "test_B5_path = '/mnt/DataK/Project/ThyroidCancer/data/processed_data/patch_level/train_valid_test/test/B5'\n",
    "test_B6_path = '/mnt/DataK/Project/ThyroidCancer/data/processed_data/patch_level/train_valid_test/test/B6'"
   ]
  },
  {
   "cell_type": "code",
   "execution_count": null,
   "metadata": {},
   "outputs": [
    {
     "name": "stdout",
     "output_type": "stream",
     "text": [
      "2566\n",
      "2566\n",
      "2566\n",
      "318\n",
      "318\n",
      "318\n",
      "497\n",
      "497\n",
      "497\n"
     ]
    }
   ],
   "source": [
    "directories = [\n",
    "    train_B2_path,\n",
    "    train_B2_path,\n",
    "    train_B6_path,\n",
    "    valid_B2_path,\n",
    "    valid_B5_path,\n",
    "    valid_B6_path,\n",
    "    test_B2_path,\n",
    "    test_B5_path,\n",
    "    test_B6_path,\n",
    "]\n",
    "\n",
    "for path in directories:\n",
    "    print(count_images_in_directory(path))"
   ]
  }
 ],
 "metadata": {
  "kernelspec": {
   "display_name": "py",
   "language": "python",
   "name": "python3"
  },
  "language_info": {
   "codemirror_mode": {
    "name": "ipython",
    "version": 3
   },
   "file_extension": ".py",
   "mimetype": "text/x-python",
   "name": "python",
   "nbconvert_exporter": "python",
   "pygments_lexer": "ipython3",
   "version": "3.11.8"
  }
 },
 "nbformat": 4,
 "nbformat_minor": 2
}
