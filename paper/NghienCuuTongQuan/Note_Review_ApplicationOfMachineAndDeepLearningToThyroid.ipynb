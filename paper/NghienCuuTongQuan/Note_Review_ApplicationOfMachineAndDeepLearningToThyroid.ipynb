{
 "cells": [
  {
   "cell_type": "markdown",
   "metadata": {},
   "source": [
    "# Chủ đề  \n",
    "Ứng dụng của học máy và học sâu về tuyến giáp tế bào học và mô bệnh học: Review các phương pháp"
   ]
  },
  {
   "cell_type": "markdown",
   "metadata": {},
   "source": [
    "# Tổng quan"
   ]
  },
  {
   "cell_type": "markdown",
   "metadata": {},
   "source": [
    "Đánh giá này tổng hợp các nghiên cứu trước đó về cách học máy và học sâu có thể cải thiện quy trình xử lý tế bào và mô histopathology cho chẩn đoán ung thư tuyến giáp. Phương pháp tiêu chuẩn hiện nay trước khi thực hiện phẫu thuật là việc tiêm chọc tế bào mảnh - lấy sinh thiết có độ **biến thiên giữa các quan sát viên cao**, thường trả về các mẫu không xác định và không thể nhận dạng một số bệnh lý một cách đáng tin cậy; **phân tích mô histopathology** giải quyết các vấn đề này một phần, nhưng nó yêu cầu **phải phẫu thuật cắt bỏ các mảnh u nghi ngờ** nên không thể ảnh hưởng đến quyết định trước phẫu thuật.  \n",
    "  \n",
    "Bởi những vấn đề này, cũng như bởi sự thiếu hụt lâu dài về các bác sĩ bệnh học được đào tạo, đã có nhiều nghiên cứu về cách trí tuệ nhân tạo có thể cải thiện các quy trình hiện tại và giảm áp lực lên các bác sĩ. Nhiều nghiên cứu trước đây đã chỉ ra tiềm năng đáng kể của phân tích hình ảnh tự động trong việc phân loại các u tuyến giáp, đặc biệt là đối với các u của ung thư tuyến giáp biểu mô, **nhưng những nghiên cứu này thường là quan sát lại**, vì vậy vẫn còn **câu hỏi về hiệu quả thực tế của các công cụ tự động này và thực tế của việc tích hợp chúng vào các luồng làm việc lâm sàng**. Hơn nữa, bản chất của việc phân loại u tuyến giáp là đáng kể phức tạp hơn trong thực hành so với nhiều nghiên cứu hiện tại đã giải quyết, và điều này, cùng với sự đa dạng của các luồng xử lý trong các phòng thí nghiệm khác nhau, có nghĩa là không có giải pháp nào đã chứng minh được sự mạnh mẽ đủ cho việc áp dụng lâm sàng.  \n",
    "  \n",
    "Do đó, có nhiều hướng nghiên cứu cho tương lai: nghiên cứu việc thực hiện thực tế của các thuật toán này như hệ thống hỗ trợ quyết định của các bác sĩ bệnh học; điều cần thiết để xây dựng niềm tin với các bác sĩ và các cơ quan quản lý; và nghiên cứu phân loại đa lớp trên các tập dữ liệu đa trung tâm đa dạng, mục tiêu là **các phương pháp mà chứng minh được có hiệu suất cao một cách không phụ thuộc vào quy trình và thiết bị**."
   ]
  },
  {
   "cell_type": "markdown",
   "metadata": {},
   "source": [
    "# Giới thiệu"
   ]
  },
  {
   "cell_type": "markdown",
   "metadata": {},
   "source": [
    "## Ung thư tuyến giáp"
   ]
  },
  {
   "cell_type": "markdown",
   "metadata": {},
   "source": [
    "Tuyến giáp là một tuyến nhỏ hình con bướm nằm ở cổ – khối chất lỏng nhỏ hoặc khối rắn – có thể phát triển. Những ung thư tuyến giáp có thể được phát hiện bằng cách sờ nắn trong khoảng 2–6% dân số và có siêu âm trong khoảng 19–67%. Nhất là lành tính, nhưng khoảng 5% là ung thư.  \n",
    "  \n",
    "Có bốn loại ung thư tuyến giáp (ung thư biểu mô) chính – nhú (PTC), tuyến giáp dạng nang (FTC), thoái hóa (ATC) và tủy (MTC) – chiếm 70–90%, 5-10%, 2% và <2% các trường hợp tương ứng.  \n",
    "  \n",
    "Các biến thể / loại phụ tồn tại, chẳng hạn như các biến thể tế bào nang (FTC) hoặc tế bào nhú (PTC). Một chẩn đoán bổ sung lưu ý đặc biệt là 'u tuyến giáp dạng nang không xâm lấn' với các đặc điểm hạt nhân giống như nhú' (NIFTP). Thuật ngữ này đã được giới thiệu vào năm 2016 để thay thế phương pháp đóng gói không xâm lấn biến thể nang của PTC (EFV-PTC): **mặc dù NIFTP có tế bào giống như PTC, chúng có tiềm năng ác tính thấp và việc phân biệt hiệu quả giữa NIFTP và PTC cổ điển** có thể hỗ trợ trong việc giảm thang trị liệu.  \n",
    "  \n",
    "Các nốt lành tính thường được biểu hiện bằng các nốt không tân sinh (tăng sản đa nhân / bướu cổ, u nang) và tân sinh (nang tổn thương u tuyến - FA) (non-neoplastic\n",
    "(multinodular hyperplasia/goitre, cysts) and neoplastic [follicular adenoma (FA)] lesions)."
   ]
  },
  {
   "cell_type": "markdown",
   "metadata": {},
   "source": [
    "**Chẩn đoán và điều trị**"
   ]
  },
  {
   "cell_type": "markdown",
   "metadata": {},
   "source": [
    "Thông thường việc phát hiện ung thư tuyến giáp xuất hiện từ việc khám định kỳ. Cụ thể là thông qua siêu âm -> xác định được thành phần, vị trí, độ vang, vôi hóa. Tùy thuộc vào kết quả siêu âm mà bệnh nhân được đề nghị chọc hút tế bào bằng kim nhỏ (FNA) để xác định rõ hơn.  \n",
    "  \n",
    "The Bethesda System (TBS) for Reporting Thyroid Cytopathology thường được sử dụng cho các mẫu được thu thập bằng FNA.  \n",
    "  \n",
    "Khoảng 10% FNA được thu thập không đạt yêu cầu chẩn đoán (TBS1) do các thông số như máu bị che khuất, bảo quản tế bào kém hoặc tế bào không đủ lấy mẫu, với khuyến nghị lặp lại sinh thiết dưới sự hướng dẫn của siêu âm để xác định vùng lấy sinh thiết hiệu quả hơn. Đối với một số bệnh ác tính tế bào học chẩn đoán là một thách thức, dẫn đến tỷ lệ cao sự biến đổi giữa các kết quả chẩn đoán bởi các trung tâm xác định khác nhau. Ước tính khoảng 15–30% trả về kết quả không xác định (TBS3 hoặc 4). Đối với một\n",
    "phát hiện, nguy cơ ác tính tương ứng đã được đưa ra trong một tổng hợp phân tích lên tới 30,5% đối với TBS3 và lên tới 28,9% đối với TBS4.  \n",
    "  \n",
    "Nguy cơ tương đối cao thường thúc đẩy phẫu thuật chẩn đoán dưới hình thức cắt thùy hoặc cắt tuyến giáp, với phân tích các mô được cắt bỏ là tiêu chuẩn vàng để chẩn đoán. Phẫu thuật cắt bỏ là quá trình hành động được đề nghị cho các nốt ác tính, nhưng một lượng lớn tỷ lệ các lần phẫu thuật chẩn đoán rõ ràng là không cần thiết. Ca phẫu thuật\n",
    "mang theo rủi ro, có thể gây ra đau khổ và lo lắng đáng kể, và trong nhiều trường hợp cần phải điều trị thay thế thyroxine suốt đời. Nhiều bệnh nhân trải nghiệm điều này một cách không cần thiết.  \n",
    "  \n",
    "Như vậy việc xác định các phân loại ung thư với tỷ lệ chính xác cực cao là cực kỳ quan trọng để tránh đau khổ và phiền hà cho bệnh nhân.  "
   ]
  },
  {
   "cell_type": "markdown",
   "metadata": {},
   "source": [
    "Tuy nhiên, việc phân tích thủ công các mẫu sinh thiết và mô tốn rất nhiều công sức, với áp lực thời gian đặt lên các nhà nghiên cứu bệnh học. Do khối lượng công việc tăng lên và sự thiếu hụt kinh niên của nhân viên được đào tạo. Các phương pháp dự đoán bệnh ác tính tốt hơn cần thiết trong suốt quá trình chẩn đoán để giảm bớt điều này\n",
    "áp lực, giảm số ca phẫu thuật không cần thiết, và cải thiện sức khỏe chung của bệnh nhân.  \n",
    "  \n",
    "**Thử nghiệm phân tử** đã được đề xuất để tăng cường bệnh ác tính dự đoán về các nốt không xác định về mặt tế bào học, với nhiều nghiên cứu báo cáo thành công. Mặc dù những phương pháp như vậy chắc chắn có một vị trí trong chẩn đoán ung thư tuyến giáp, có mối lo ngại rằng các xét nghiệm này **thường giảm nguy cơ xuất hiện ung thư thay vì đảm bảo sự vắng mặt của nó**, bởi bị giới hạn ở một số ít chuyên môn hóa và tập trung cao độ phòng thí nghiệm và tăng tổng chi phí chăm sóc sức khỏe, điều này ngăn cản việc áp dụng lâm sàng ở những nơi có nguồn lực hạn chế.  \n",
    "  \n",
    "Được thúc đẩy bởi những điều trên, chúng tôi tiến hành vào các kỹ thuật sử dụng trí tuệ nhân tạo (AI) có thể cải thiện quy trình làm việc lâm sàng hiện có."
   ]
  },
  {
   "cell_type": "markdown",
   "metadata": {},
   "source": [
    "## Trí tuệ nhân tạo "
   ]
  },
  {
   "cell_type": "markdown",
   "metadata": {},
   "source": [
    "### Kiến thức nền tảng"
   ]
  },
  {
   "cell_type": "markdown",
   "metadata": {},
   "source": [
    "### Ứng dụng trong y sinh"
   ]
  },
  {
   "cell_type": "markdown",
   "metadata": {},
   "source": [
    "Thường sử dụng ML & DL  "
   ]
  },
  {
   "cell_type": "markdown",
   "metadata": {},
   "source": [
    "# Các ứng dụng / phương pháp hiện tại"
   ]
  },
  {
   "cell_type": "markdown",
   "metadata": {},
   "source": [
    "## Tế bào học (Cytopathology)"
   ]
  },
  {
   "cell_type": "markdown",
   "metadata": {},
   "source": [
    "### Các phương pháp dựa trên học máy"
   ]
  },
  {
   "cell_type": "markdown",
   "metadata": {},
   "source": [
    "#### Phân loại ung thư biểu mô (Classification of carcinomas)"
   ]
  },
  {
   "cell_type": "markdown",
   "metadata": {},
   "source": [
    "#### Các lĩnh vực nghiên cứu khác"
   ]
  },
  {
   "cell_type": "markdown",
   "metadata": {},
   "source": [
    "### Các phương pháp dựa trên học sâu"
   ]
  },
  {
   "cell_type": "markdown",
   "metadata": {},
   "source": [
    "#### Phân loại ung thư biểu mô "
   ]
  },
  {
   "cell_type": "markdown",
   "metadata": {},
   "source": [
    "#### Các lĩnh vực nghiên cứu khác"
   ]
  },
  {
   "cell_type": "markdown",
   "metadata": {},
   "source": [
    "## Mô bệnh học (Histopathology)"
   ]
  },
  {
   "cell_type": "markdown",
   "metadata": {},
   "source": [
    "### Các phương pháp dựa trên học máy"
   ]
  },
  {
   "cell_type": "markdown",
   "metadata": {},
   "source": [
    "### Các phương pháp dựa trên học sâu"
   ]
  },
  {
   "cell_type": "markdown",
   "metadata": {},
   "source": [
    "#### Phân loại ung thư biểu mô"
   ]
  },
  {
   "cell_type": "markdown",
   "metadata": {},
   "source": [
    "#### Dự báo đột biến gen (Prediction of genetic mutational status)"
   ]
  },
  {
   "cell_type": "markdown",
   "metadata": {},
   "source": [
    "#### Các lĩnh vực nghiên cứu khác"
   ]
  },
  {
   "cell_type": "markdown",
   "metadata": {},
   "source": [
    "# Thảo luận"
   ]
  }
 ],
 "metadata": {
  "language_info": {
   "name": "python"
  }
 },
 "nbformat": 4,
 "nbformat_minor": 2
}
