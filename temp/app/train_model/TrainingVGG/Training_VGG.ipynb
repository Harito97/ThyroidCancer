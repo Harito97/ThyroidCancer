{
  "nbformat": 4,
  "nbformat_minor": 0,
  "metadata": {
    "colab": {
      "provenance": [],
      "gpuType": "T4"
    },
    "kernelspec": {
      "name": "python3",
      "display_name": "Python 3"
    },
    "language_info": {
      "name": "python"
    },
    "accelerator": "GPU"
  },
  "cells": [
    {
      "cell_type": "code",
      "execution_count": 12,
      "metadata": {
        "id": "ZyO4IVd4-rKn"
      },
      "outputs": [],
      "source": [
        "# importing the libraries\n",
        "import numpy as np\n",
        "import pandas as pd\n",
        "import matplotlib.pyplot as plt\n",
        "from glob import glob"
      ]
    },
    {
      "cell_type": "code",
      "source": [
        "# loading the directories\n",
        "training_dir = '/content/drive/MyDrive/Colab/Data/train_valid_test/train/'\n",
        "validation_dir = '/content/drive/MyDrive/Colab/Data/train_valid_test/valid/'\n",
        "test_dir = '/content/drive/MyDrive/Colab/Data/train_valid_test/test/'"
      ],
      "metadata": {
        "id": "8QBQ71Zg_J4U"
      },
      "execution_count": 2,
      "outputs": []
    },
    {
      "cell_type": "code",
      "source": [
        "# useful for getting number of files\n",
        "image_files = glob(training_dir + '/*/*.jp*g')\n",
        "valid_image_files = glob(validation_dir + '/*/*.jp*g')"
      ],
      "metadata": {
        "id": "FmzETJLI_ZPo"
      },
      "execution_count": 3,
      "outputs": []
    },
    {
      "cell_type": "code",
      "source": [
        "# getting the number of classes i.e. type of fruits\n",
        "folders = glob(training_dir + '/*')\n",
        "num_classes = len(folders)\n",
        "print ('Total Classes = ' + str(num_classes))"
      ],
      "metadata": {
        "id": "SrqXLGu-_byF",
        "colab": {
          "base_uri": "https://localhost:8080/"
        },
        "outputId": "e5e21ca0-a7db-435e-9dd9-05a0c9d9989b"
      },
      "execution_count": 4,
      "outputs": [
        {
          "output_type": "stream",
          "name": "stdout",
          "text": [
            "Total Classes = 3\n"
          ]
        }
      ]
    },
    {
      "cell_type": "code",
      "source": [
        "# importing the libraries\n",
        "from keras.models import Model\n",
        "from keras.layers import Flatten, Dense\n",
        "from keras.applications import VGG16\n",
        "#from keras.preprocessing import image\n",
        "\n",
        "IMAGE_SIZE = [224, 224]  # we will keep the image size as (64,64). You can increase the size for better results.\n",
        "\n",
        "# loading the weights of VGG16 without the top layer. These weights are trained on Imagenet dataset.\n",
        "vgg = VGG16(input_shape = IMAGE_SIZE + [3], weights = 'imagenet', include_top = False)  # input_shape = (64,64,3) as required by VGG\n",
        "\n",
        "# this will exclude the initial layers from training phase as there are already been trained.\n",
        "for layer in vgg.layers:\n",
        "    layer.trainable = False\n",
        "\n",
        "x = Flatten()(vgg.output)\n",
        "#x = Dense(128, activation = 'relu')(x)   # we can add a new fully connected layer but it will increase the execution time.\n",
        "# num_classes = 3   # B2, B5, B6\n",
        "x = Dense(num_classes, activation = 'softmax')(x)  # adding the output layer with softmax function as this is a multi label classification problem.\n",
        "\n",
        "model = Model(inputs = vgg.input, outputs = x)\n",
        "\n",
        "model.compile(loss='categorical_crossentropy', optimizer='adam', metrics=['accuracy'])"
      ],
      "metadata": {
        "id": "kqK6bm4k_zUp"
      },
      "execution_count": 5,
      "outputs": []
    },
    {
      "cell_type": "code",
      "source": [
        "model.summary()"
      ],
      "metadata": {
        "id": "J_krapE6_5FW",
        "colab": {
          "base_uri": "https://localhost:8080/"
        },
        "outputId": "dcb10eb6-a837-4e0d-d9b5-1c3c28c5ab76"
      },
      "execution_count": 6,
      "outputs": [
        {
          "output_type": "stream",
          "name": "stdout",
          "text": [
            "Model: \"model\"\n",
            "_________________________________________________________________\n",
            " Layer (type)                Output Shape              Param #   \n",
            "=================================================================\n",
            " input_1 (InputLayer)        [(None, 224, 224, 3)]     0         \n",
            "                                                                 \n",
            " block1_conv1 (Conv2D)       (None, 224, 224, 64)      1792      \n",
            "                                                                 \n",
            " block1_conv2 (Conv2D)       (None, 224, 224, 64)      36928     \n",
            "                                                                 \n",
            " block1_pool (MaxPooling2D)  (None, 112, 112, 64)      0         \n",
            "                                                                 \n",
            " block2_conv1 (Conv2D)       (None, 112, 112, 128)     73856     \n",
            "                                                                 \n",
            " block2_conv2 (Conv2D)       (None, 112, 112, 128)     147584    \n",
            "                                                                 \n",
            " block2_pool (MaxPooling2D)  (None, 56, 56, 128)       0         \n",
            "                                                                 \n",
            " block3_conv1 (Conv2D)       (None, 56, 56, 256)       295168    \n",
            "                                                                 \n",
            " block3_conv2 (Conv2D)       (None, 56, 56, 256)       590080    \n",
            "                                                                 \n",
            " block3_conv3 (Conv2D)       (None, 56, 56, 256)       590080    \n",
            "                                                                 \n",
            " block3_pool (MaxPooling2D)  (None, 28, 28, 256)       0         \n",
            "                                                                 \n",
            " block4_conv1 (Conv2D)       (None, 28, 28, 512)       1180160   \n",
            "                                                                 \n",
            " block4_conv2 (Conv2D)       (None, 28, 28, 512)       2359808   \n",
            "                                                                 \n",
            " block4_conv3 (Conv2D)       (None, 28, 28, 512)       2359808   \n",
            "                                                                 \n",
            " block4_pool (MaxPooling2D)  (None, 14, 14, 512)       0         \n",
            "                                                                 \n",
            " block5_conv1 (Conv2D)       (None, 14, 14, 512)       2359808   \n",
            "                                                                 \n",
            " block5_conv2 (Conv2D)       (None, 14, 14, 512)       2359808   \n",
            "                                                                 \n",
            " block5_conv3 (Conv2D)       (None, 14, 14, 512)       2359808   \n",
            "                                                                 \n",
            " block5_pool (MaxPooling2D)  (None, 7, 7, 512)         0         \n",
            "                                                                 \n",
            " flatten (Flatten)           (None, 25088)             0         \n",
            "                                                                 \n",
            " dense (Dense)               (None, 3)                 75267     \n",
            "                                                                 \n",
            "=================================================================\n",
            "Total params: 14789955 (56.42 MB)\n",
            "Trainable params: 75267 (294.01 KB)\n",
            "Non-trainable params: 14714688 (56.13 MB)\n",
            "_________________________________________________________________\n"
          ]
        }
      ]
    },
    {
      "cell_type": "code",
      "source": [
        "# Image Augmentation\n",
        "\n",
        "from keras.preprocessing.image import ImageDataGenerator\n",
        "from keras.applications.vgg16 import preprocess_input\n",
        "\n",
        "training_datagen = ImageDataGenerator(\n",
        "                                    rescale=1./255,   # all pixel values will be between 0 an 1\n",
        "                                    shear_range=0.2,\n",
        "                                    zoom_range=0.2,\n",
        "                                    horizontal_flip=True,\n",
        "                                    preprocessing_function=preprocess_input)\n",
        "\n",
        "validation_datagen = ImageDataGenerator(rescale = 1./255, preprocessing_function=preprocess_input)\n",
        "\n",
        "training_generator = training_datagen.flow_from_directory(training_dir, target_size = IMAGE_SIZE, batch_size = 64, class_mode = 'categorical')\n",
        "validation_generator = validation_datagen.flow_from_directory(validation_dir, target_size = IMAGE_SIZE, batch_size = 64, class_mode = 'categorical')"
      ],
      "metadata": {
        "id": "XaIEftcW_61n",
        "colab": {
          "base_uri": "https://localhost:8080/"
        },
        "outputId": "d19b7bf8-cf3a-4928-f9c4-91d4c329f944"
      },
      "execution_count": 7,
      "outputs": [
        {
          "output_type": "stream",
          "name": "stdout",
          "text": [
            "Found 7698 images belonging to 3 classes.\n",
            "Found 954 images belonging to 3 classes.\n"
          ]
        }
      ]
    },
    {
      "cell_type": "code",
      "source": [
        "# The labels are stored in class_indices in dictionary form.\n",
        "# checking the labels\n",
        "training_generator.class_indices"
      ],
      "metadata": {
        "id": "aUMF0J-tAN-u",
        "colab": {
          "base_uri": "https://localhost:8080/"
        },
        "outputId": "68ea5d4e-f5eb-4703-f33a-846fead2b48c"
      },
      "execution_count": 8,
      "outputs": [
        {
          "output_type": "execute_result",
          "data": {
            "text/plain": [
              "{'B2': 0, 'B5': 1, 'B6': 2}"
            ]
          },
          "metadata": {},
          "execution_count": 8
        }
      ]
    },
    {
      "cell_type": "code",
      "source": [
        "history = model.fit(training_generator,\n",
        "                  #  steps_per_epoch = 7698,  # this should be equal to total number of images in training set. But to speed up the execution, I am only using 10000 images. Change this for better results.\n",
        "                   epochs = 50,  # change this for better results\n",
        "                   validation_data = validation_generator,)\n",
        "                  #  validation_steps = 954)  # this should be equal to total number of images in validation set."
      ],
      "metadata": {
        "id": "73c5uZW_ATBo",
        "colab": {
          "base_uri": "https://localhost:8080/"
        },
        "outputId": "c4a48b48-d2fc-42d7-c30a-305b4d06ccf5"
      },
      "execution_count": 9,
      "outputs": [
        {
          "output_type": "stream",
          "name": "stdout",
          "text": [
            "Epoch 1/2\n",
            "154/154 [==============================] - 4797s 31s/step - loss: 0.6379 - accuracy: 0.7167 - val_loss: 0.4917 - val_accuracy: 0.7809\n",
            "Epoch 2/2\n",
            "154/154 [==============================] - 4790s 31s/step - loss: 0.4627 - accuracy: 0.7898 - val_loss: 0.7305 - val_accuracy: 0.6855\n"
          ]
        }
      ]
    },
    {
      "cell_type": "code",
      "source": [
        "# Lưu mô hình cùng với trạng thái của trình tối ưu hóa\n",
        "model.save('/content/drive/MyDrive/Colab/Model/vgg16_model.keras')"
      ],
      "metadata": {
        "id": "g3UONUDrSeCv"
      },
      "execution_count": 21,
      "outputs": []
    },
    {
      "cell_type": "code",
      "source": [
        "# In độ chính xác đào tạo và xác thực\n",
        "print('Training Accuracy = ' + str(history.history['accuracy']))\n",
        "print('Validation Accuracy = ' + str(history.history['val_accuracy']))"
      ],
      "metadata": {
        "id": "25gKBwAOAWMc",
        "colab": {
          "base_uri": "https://localhost:8080/"
        },
        "outputId": "7a7bc5e2-674a-4322-eca6-e0fd33b6d166"
      },
      "execution_count": 11,
      "outputs": [
        {
          "output_type": "stream",
          "name": "stdout",
          "text": [
            "Training Accuracy = [0.7166796326637268, 0.7898155450820923]\n",
            "Validation Accuracy = [0.7809224128723145, 0.6855345964431763]\n"
          ]
        }
      ]
    },
    {
      "cell_type": "code",
      "source": [
        "# accuracies\n",
        "plt.plot(history.history['accuracy'], label='train acc')\n",
        "plt.plot(history.history['val_accuracy'], label='val acc')\n",
        "plt.legend()\n",
        "plt.savefig('vgg-acc-rps-1.png')\n",
        "plt.show()\n",
        "\n",
        "# loss\n",
        "plt.plot(history.history['loss'], label='train loss')\n",
        "plt.plot(history.history['val_loss'], label='val loss')\n",
        "plt.legend()\n",
        "plt.savefig('vgg-loss-rps-1.png')\n",
        "plt.show()"
      ],
      "metadata": {
        "colab": {
          "base_uri": "https://localhost:8080/",
          "height": 843
        },
        "id": "pEx82vgMnbYr",
        "outputId": "74306b24-8973-468f-e98b-8c4186ae25fd"
      },
      "execution_count": 12,
      "outputs": [
        {
          "output_type": "display_data",
          "data": {
            "text/plain": [
              "<Figure size 640x480 with 1 Axes>"
            ],
            "image/png": "[encoded data removed]"
          },
          "metadata": {}
        },
        {
          "output_type": "display_data",
          "data": {
            "text/plain": [
              "<Figure size 640x480 with 1 Axes>"
            ],
            "image/png": "[encoded data removed]"
          },
          "metadata": {}
        }
      ]
    },
    {
      "cell_type": "code",
      "source": [
        "from keras.models import load_model\n",
        "\n",
        "# Tải mô hình đã lưu\n",
        "model = load_model('/content/drive/MyDrive/Colab/Model/vgg16_model.keras')"
      ],
      "metadata": {
        "id": "VjjsAkr65SAv"
      },
      "execution_count": 3,
      "outputs": []
    },
    {
      "cell_type": "code",
      "source": [
        "x_test=[]\n",
        "test_path = '/content/drive/MyDrive/Colab/Data/train_valid_test/test'\n",
        "\n",
        "import os, cv2\n",
        "for folder in os.listdir(test_path):\n",
        "    sub_path=test_path+\"/\"+folder\n",
        "    for img in os.listdir(sub_path):\n",
        "        image_path=sub_path+\"/\"+img\n",
        "        img_arr=cv2.imread(image_path)\n",
        "        img_arr=cv2.resize(img_arr,(224,224))\n",
        "        img_arr=img_arr/255.0\n",
        "        x_test.append(img_arr)\n",
        "\n",
        "test_x=np.array(x_test)\n",
        "\n",
        "from keras.preprocessing.image import ImageDataGenerator\n",
        "test_datagen = ImageDataGenerator(rescale = 1./255)\n",
        "test_set = test_datagen.flow_from_directory(test_path,\n",
        "                                            target_size = (224, 224),\n",
        "                                            batch_size = 32,\n",
        "                                            class_mode = 'sparse')\n",
        "test_y=test_set.classes"
      ],
      "metadata": {
        "colab": {
          "base_uri": "https://localhost:8080/"
        },
        "id": "vSfpN6O4oC-K",
        "outputId": "efe485d1-3910-417d-8a92-94941644473f"
      },
      "execution_count": 7,
      "outputs": [
        {
          "output_type": "stream",
          "name": "stdout",
          "text": [
            "Found 1491 images belonging to 3 classes.\n"
          ]
        }
      ]
    },
    {
      "cell_type": "code",
      "source": [
        "from sklearn.metrics import accuracy_score,classification_report,confusion_matrix\n",
        "import numpy as np\n",
        "\n",
        "#predict\n",
        "y_pred=model.predict(test_x)"
      ],
      "metadata": {
        "colab": {
          "base_uri": "https://localhost:8080/"
        },
        "id": "YBPPjseVnse6",
        "outputId": "af542ba2-04f9-4a02-eb58-e55c355fe940"
      },
      "execution_count": 8,
      "outputs": [
        {
          "output_type": "stream",
          "name": "stdout",
          "text": [
            "47/47 [==============================] - 823s 17s/step\n"
          ]
        }
      ]
    },
    {
      "cell_type": "code",
      "source": [
        "y_pred_=np.argmax(y_pred, axis=1)"
      ],
      "metadata": {
        "id": "qb6xbQR4u2E4"
      },
      "execution_count": 9,
      "outputs": []
    },
    {
      "cell_type": "code",
      "source": [
        "print(y_pred.shape, y_pred_.shape, test_y.shape)"
      ],
      "metadata": {
        "colab": {
          "base_uri": "https://localhost:8080/"
        },
        "id": "6Vk6kl-z4waa",
        "outputId": "39647dcb-dd2e-4448-d8ea-9858d04f87eb"
      },
      "execution_count": 10,
      "outputs": [
        {
          "output_type": "stream",
          "name": "stdout",
          "text": [
            "(1491, 3) (1491,) (1491,)\n"
          ]
        }
      ]
    },
    {
      "cell_type": "code",
      "source": [
        "#get classification report\n",
        "print(classification_report(y_pred_, test_y))\n",
        "\n",
        "#get confusion matrix\n",
        "print(confusion_matrix(y_pred_, test_y))"
      ],
      "metadata": {
        "colab": {
          "base_uri": "https://localhost:8080/"
        },
        "id": "n7l0HAxZuzUr",
        "outputId": "6fabc16e-5d08-49ea-d98f-ff8aefd2c539"
      },
      "execution_count": 11,
      "outputs": [
        {
          "output_type": "stream",
          "name": "stdout",
          "text": [
            "              precision    recall  f1-score   support\n",
            "\n",
            "           0       0.00      0.00      0.00       306\n",
            "           1       0.39      0.19      0.26      1004\n",
            "           2       0.34      0.92      0.49       181\n",
            "\n",
            "    accuracy                           0.24      1491\n",
            "   macro avg       0.24      0.37      0.25      1491\n",
            "weighted avg       0.30      0.24      0.23      1491\n",
            "\n",
            "[[  1 305   0]\n",
            " [482 192 330]\n",
            " [ 14   0 167]]\n"
          ]
        }
      ]
    },
    {
      "cell_type": "code",
      "source": [
        "import cv2\n",
        "# Tải ảnh vào một mảng NumPy\n",
        "# image = cv2.imread('/content/drive/MyDrive/Colab/Data/train_valid_test/test/B5/B5_0_z5021000001378_1e7342c46548eb446b5a389f07bf35d1.jpg')\n",
        "image = cv2.imread('/content/drive/MyDrive/Colab/Data/train_valid_test/test/B6/B6_4_Image_142030.jpg')\n",
        "image = cv2.resize(image, (224, 224))\n",
        "\n",
        "# Chuẩn hóa ảnh\n",
        "image = image / 255.0\n",
        "\n",
        "# Thêm một chiều lô vào ảnh\n",
        "image = np.expand_dims(image, axis=0)\n",
        "\n",
        "# Dự đoán trên ảnh\n",
        "predictions = model.predict(image)\n",
        "\n",
        "# In các xác suất cho mỗi lớp\n",
        "print(predictions)"
      ],
      "metadata": {
        "colab": {
          "base_uri": "https://localhost:8080/"
        },
        "id": "l3GyAITFx6Xp",
        "outputId": "b12c14e0-e9bd-474a-9b2e-f06d27e531be"
      },
      "execution_count": 33,
      "outputs": [
        {
          "output_type": "stream",
          "name": "stdout",
          "text": [
            "1/1 [==============================] - 1s 694ms/step\n",
            "[[6.071948e-04 9.301508e-01 6.924201e-02]]\n"
          ]
        }
      ]
    }
  ]
}