{
  "nbformat": 4,
  "nbformat_minor": 0,
  "metadata": {
    "colab": {
      "provenance": [],
      "gpuType": "T4"
    },
    "kernelspec": {
      "name": "python3",
      "display_name": "Python 3"
    },
    "language_info": {
      "name": "python"
    },
    "accelerator": "GPU"
  },
  "cells": [
    {
      "cell_type": "code",
      "execution_count": 11,
      "metadata": {
        "id": "ZyO4IVd4-rKn"
      },
      "outputs": [],
      "source": [
        "# importing the libraries\n",
        "import numpy as np\n",
        "import pandas as pd\n",
        "import matplotlib.pyplot as plt\n",
        "from glob import glob"
      ]
    },
    {
      "cell_type": "code",
      "source": [
        "# loading the directories\n",
        "training_dir = '/content/drive/MyDrive/Colab/Data/train_valid_test/train/'\n",
        "validation_dir = '/content/drive/MyDrive/Colab/Data/train_valid_test/valid/'\n",
        "test_dir = '/content/drive/MyDrive/Colab/Data/train_valid_test/test/'"
      ],
      "metadata": {
        "id": "8QBQ71Zg_J4U"
      },
      "execution_count": 12,
      "outputs": []
    },
    {
      "cell_type": "code",
      "source": [
        "# useful for getting number of files\n",
        "image_files = glob(training_dir + '/*/*.jp*g')\n",
        "valid_image_files = glob(validation_dir + '/*/*.jp*g')"
      ],
      "metadata": {
        "id": "FmzETJLI_ZPo"
      },
      "execution_count": 13,
      "outputs": []
    },
    {
      "cell_type": "code",
      "source": [
        "# getting the number of classes i.e. type of fruits\n",
        "folders = glob(training_dir + '/*')\n",
        "num_classes = len(folders)\n",
        "print ('Total Classes = ' + str(num_classes))"
      ],
      "metadata": {
        "id": "SrqXLGu-_byF",
        "colab": {
          "base_uri": "https://localhost:8080/"
        },
        "outputId": "61f64f97-90d2-4c54-c23a-7bd1c4995c8a"
      },
      "execution_count": 14,
      "outputs": [
        {
          "output_type": "stream",
          "name": "stdout",
          "text": [
            "Total Classes = 3\n"
          ]
        }
      ]
    },
    {
      "cell_type": "code",
      "source": [
        "# importing the libraries\n",
        "from keras.models import Model\n",
        "from keras.layers import Flatten, Dense\n",
        "from keras.applications import VGG16\n",
        "#from keras.preprocessing import image\n",
        "\n",
        "IMAGE_SIZE = [224, 224]  # we will keep the image size as (64,64). You can increase the size for better results.\n",
        "\n",
        "# loading the weights of VGG16 without the top layer. These weights are trained on Imagenet dataset.\n",
        "vgg = VGG16(input_shape = IMAGE_SIZE + [3], weights = 'imagenet', include_top = False)  # input_shape = (64,64,3) as required by VGG\n",
        "\n",
        "# this will exclude the initial layers from training phase as there are already been trained.\n",
        "for layer in vgg.layers:\n",
        "    layer.trainable = False\n",
        "\n",
        "x = Flatten()(vgg.output)\n",
        "#x = Dense(128, activation = 'relu')(x)   # we can add a new fully connected layer but it will increase the execution time.\n",
        "# num_classes = 3   # B2, B5, B6\n",
        "x = Dense(num_classes, activation = 'softmax')(x)  # adding the output layer with softmax function as this is a multi label classification problem.\n",
        "\n",
        "model = Model(inputs = vgg.input, outputs = x)\n",
        "\n",
        "model.compile(loss='categorical_crossentropy', optimizer='adam', metrics=['accuracy'])"
      ],
      "metadata": {
        "id": "kqK6bm4k_zUp"
      },
      "execution_count": 15,
      "outputs": []
    },
    {
      "cell_type": "code",
      "source": [
        "model.summary()"
      ],
      "metadata": {
        "id": "J_krapE6_5FW",
        "colab": {
          "base_uri": "https://localhost:8080/"
        },
        "outputId": "c3c49629-078f-440e-c207-78c97dffc295"
      },
      "execution_count": 16,
      "outputs": [
        {
          "output_type": "stream",
          "name": "stdout",
          "text": [
            "Model: \"model_1\"\n",
            "_________________________________________________________________\n",
            " Layer (type)                Output Shape              Param #   \n",
            "=================================================================\n",
            " input_2 (InputLayer)        [(None, 224, 224, 3)]     0         \n",
            "                                                                 \n",
            " block1_conv1 (Conv2D)       (None, 224, 224, 64)      1792      \n",
            "                                                                 \n",
            " block1_conv2 (Conv2D)       (None, 224, 224, 64)      36928     \n",
            "                                                                 \n",
            " block1_pool (MaxPooling2D)  (None, 112, 112, 64)      0         \n",
            "                                                                 \n",
            " block2_conv1 (Conv2D)       (None, 112, 112, 128)     73856     \n",
            "                                                                 \n",
            " block2_conv2 (Conv2D)       (None, 112, 112, 128)     147584    \n",
            "                                                                 \n",
            " block2_pool (MaxPooling2D)  (None, 56, 56, 128)       0         \n",
            "                                                                 \n",
            " block3_conv1 (Conv2D)       (None, 56, 56, 256)       295168    \n",
            "                                                                 \n",
            " block3_conv2 (Conv2D)       (None, 56, 56, 256)       590080    \n",
            "                                                                 \n",
            " block3_conv3 (Conv2D)       (None, 56, 56, 256)       590080    \n",
            "                                                                 \n",
            " block3_pool (MaxPooling2D)  (None, 28, 28, 256)       0         \n",
            "                                                                 \n",
            " block4_conv1 (Conv2D)       (None, 28, 28, 512)       1180160   \n",
            "                                                                 \n",
            " block4_conv2 (Conv2D)       (None, 28, 28, 512)       2359808   \n",
            "                                                                 \n",
            " block4_conv3 (Conv2D)       (None, 28, 28, 512)       2359808   \n",
            "                                                                 \n",
            " block4_pool (MaxPooling2D)  (None, 14, 14, 512)       0         \n",
            "                                                                 \n",
            " block5_conv1 (Conv2D)       (None, 14, 14, 512)       2359808   \n",
            "                                                                 \n",
            " block5_conv2 (Conv2D)       (None, 14, 14, 512)       2359808   \n",
            "                                                                 \n",
            " block5_conv3 (Conv2D)       (None, 14, 14, 512)       2359808   \n",
            "                                                                 \n",
            " block5_pool (MaxPooling2D)  (None, 7, 7, 512)         0         \n",
            "                                                                 \n",
            " flatten_1 (Flatten)         (None, 25088)             0         \n",
            "                                                                 \n",
            " dense_1 (Dense)             (None, 3)                 75267     \n",
            "                                                                 \n",
            "=================================================================\n",
            "Total params: 14789955 (56.42 MB)\n",
            "Trainable params: 75267 (294.01 KB)\n",
            "Non-trainable params: 14714688 (56.13 MB)\n",
            "_________________________________________________________________\n"
          ]
        }
      ]
    },
    {
      "cell_type": "code",
      "source": [
        "# Image Augmentation\n",
        "\n",
        "from keras.preprocessing.image import ImageDataGenerator\n",
        "from keras.applications.vgg16 import preprocess_input\n",
        "\n",
        "IMAGE_SIZE = [224, 224]\n",
        "\n",
        "training_datagen = ImageDataGenerator(\n",
        "                                    rescale=1./255,   # all pixel values will be between 0 an 1\n",
        "                                    shear_range=0.2,\n",
        "                                    zoom_range=0.2,\n",
        "                                    horizontal_flip=True,\n",
        "                                    preprocessing_function=preprocess_input)\n",
        "\n",
        "validation_datagen = ImageDataGenerator(rescale = 1./255, preprocessing_function=preprocess_input)\n",
        "\n",
        "training_generator = training_datagen.flow_from_directory(training_dir, target_size = IMAGE_SIZE, batch_size = 64, class_mode = 'categorical')\n",
        "validation_generator = validation_datagen.flow_from_directory(validation_dir, target_size = IMAGE_SIZE, batch_size = 64, class_mode = 'categorical')"
      ],
      "metadata": {
        "id": "XaIEftcW_61n",
        "colab": {
          "base_uri": "https://localhost:8080/"
        },
        "outputId": "e2f5aea6-6cc1-47b1-ec12-763c64d2ce14"
      },
      "execution_count": 17,
      "outputs": [
        {
          "output_type": "stream",
          "name": "stdout",
          "text": [
            "Found 7698 images belonging to 3 classes.\n",
            "Found 954 images belonging to 3 classes.\n"
          ]
        }
      ]
    },
    {
      "cell_type": "code",
      "source": [
        "# The labels are stored in class_indices in dictionary form.\n",
        "# checking the labels\n",
        "training_generator.class_indices"
      ],
      "metadata": {
        "id": "aUMF0J-tAN-u",
        "colab": {
          "base_uri": "https://localhost:8080/"
        },
        "outputId": "30fb91f3-4f81-47af-c15e-1353bc741872"
      },
      "execution_count": 18,
      "outputs": [
        {
          "output_type": "execute_result",
          "data": {
            "text/plain": [
              "{'B2': 0, 'B5': 1, 'B6': 2}"
            ]
          },
          "metadata": {},
          "execution_count": 18
        }
      ]
    },
    {
      "cell_type": "markdown",
      "source": [
        "Đoạn code dưới đây dùng để train lại model mình đã train trước đó"
      ],
      "metadata": {
        "id": "2EcXgSYAC2Sw"
      }
    },
    {
      "cell_type": "code",
      "source": [
        "from keras.models import load_model\n",
        "\n",
        "# Tải mô hình đã lưu\n",
        "model = load_model('/content/drive/MyDrive/Colab/Model/model_epoch_04_val_accuracy_0.80.keras')"
      ],
      "metadata": {
        "id": "0nMepXlwCsGT"
      },
      "execution_count": 19,
      "outputs": []
    },
    {
      "cell_type": "code",
      "source": [
        "from keras.callbacks import ModelCheckpoint\n",
        "checkpoint = ModelCheckpoint(filepath='/content/drive/MyDrive/Colab/Model/model_epoch_2_{epoch:02d}_val_accuracy_{val_accuracy:.2f}.keras', save_freq='epoch')"
      ],
      "metadata": {
        "id": "j6Qu8iPWJsmA"
      },
      "execution_count": 20,
      "outputs": []
    },
    {
      "cell_type": "code",
      "source": [
        "history = model.fit(training_generator,\n",
        "          epochs=7,\n",
        "          validation_data=validation_generator,\n",
        "          callbacks=[checkpoint])"
      ],
      "metadata": {
        "colab": {
          "base_uri": "https://localhost:8080/"
        },
        "id": "8eRmGf1UJ3hU",
        "outputId": "4f11b659-5add-42df-f6ac-aab93c97042e"
      },
      "execution_count": null,
      "outputs": [
        {
          "output_type": "stream",
          "name": "stdout",
          "text": [
            "Epoch 1/7\n",
            "121/121 [==============================] - 4746s 39s/step - loss: 0.3001 - accuracy: 0.8724 - val_loss: 0.4531 - val_accuracy: 0.7904\n",
            "Epoch 2/7\n",
            "121/121 [==============================] - 4800s 40s/step - loss: 0.3069 - accuracy: 0.8624 - val_loss: 0.5971 - val_accuracy: 0.7390\n",
            "Epoch 3/7\n",
            "121/121 [==============================] - 4648s 38s/step - loss: 0.2738 - accuracy: 0.8804 - val_loss: 0.4834 - val_accuracy: 0.7904\n",
            "Epoch 4/7\n",
            "105/121 [=========================>....] - ETA: 9:09 - loss: 0.2534 - accuracy: 0.8936"
          ]
        }
      ]
    },
    {
      "cell_type": "code",
      "source": [
        "# Lưu mô hình cùng với trạng thái của trình tối ưu hóa\n",
        "model.save('/content/drive/MyDrive/Colab/Model/vgg16_model_1.keras')"
      ],
      "metadata": {
        "id": "g3UONUDrSeCv"
      },
      "execution_count": null,
      "outputs": []
    },
    {
      "cell_type": "code",
      "source": [
        "# In độ chính xác đào tạo và xác thực\n",
        "# Đây là kết quả 2 lần epoch đầu tiên:\n",
        "# Training Accuracy = [0.7166796326637268, 0.7898155450820923]\n",
        "# Validation Accuracy = [0.7809224128723145, 0.6855345964431763]\n",
        "print('Training Accuracy = ' + str(history.history['accuracy']))\n",
        "print('Validation Accuracy = ' + str(history.history['val_accuracy']))"
      ],
      "metadata": {
        "id": "25gKBwAOAWMc"
      },
      "execution_count": null,
      "outputs": []
    },
    {
      "cell_type": "code",
      "source": [
        "# accuracies\n",
        "plt.plot(history.history['accuracy'], label='train acc')\n",
        "plt.plot(history.history['val_accuracy'], label='val acc')\n",
        "plt.legend()\n",
        "plt.savefig('vgg-acc-rps-1.png')\n",
        "plt.show()\n",
        "\n",
        "# loss\n",
        "plt.plot(history.history['loss'], label='train loss')\n",
        "plt.plot(history.history['val_loss'], label='val loss')\n",
        "plt.legend()\n",
        "plt.savefig('vgg-loss-rps-1.png')\n",
        "plt.show()"
      ],
      "metadata": {
        "id": "pEx82vgMnbYr"
      },
      "execution_count": null,
      "outputs": []
    },
    {
      "cell_type": "code",
      "source": [
        "from keras.models import load_model\n",
        "\n",
        "# Tải mô hình đã lưu\n",
        "model = load_model('/content/drive/MyDrive/Colab/Model/vgg16_model.keras')"
      ],
      "metadata": {
        "id": "VjjsAkr65SAv"
      },
      "execution_count": null,
      "outputs": []
    },
    {
      "cell_type": "code",
      "source": [
        "x_test=[]\n",
        "test_path = '/content/drive/MyDrive/Colab/Data/train_valid_test/test'\n",
        "\n",
        "import os, cv2\n",
        "for folder in os.listdir(test_path):\n",
        "    sub_path=test_path+\"/\"+folder\n",
        "    for img in os.listdir(sub_path):\n",
        "        image_path=sub_path+\"/\"+img\n",
        "        img_arr=cv2.imread(image_path)\n",
        "        img_arr=cv2.resize(img_arr,(224,224))\n",
        "        img_arr=img_arr/255.0\n",
        "        x_test.append(img_arr)\n",
        "\n",
        "test_x=np.array(x_test)\n",
        "\n",
        "from keras.preprocessing.image import ImageDataGenerator\n",
        "test_datagen = ImageDataGenerator(rescale = 1./255)\n",
        "test_set = test_datagen.flow_from_directory(test_path,\n",
        "                                            target_size = (224, 224),\n",
        "                                            batch_size = 32,\n",
        "                                            class_mode = 'sparse')\n",
        "test_y=test_set.classes"
      ],
      "metadata": {
        "id": "vSfpN6O4oC-K"
      },
      "execution_count": null,
      "outputs": []
    },
    {
      "cell_type": "code",
      "source": [
        "from sklearn.metrics import accuracy_score,classification_report,confusion_matrix\n",
        "import numpy as np\n",
        "\n",
        "#predict\n",
        "y_pred=model.predict(test_x)"
      ],
      "metadata": {
        "id": "YBPPjseVnse6"
      },
      "execution_count": null,
      "outputs": []
    },
    {
      "cell_type": "code",
      "source": [
        "y_pred_=np.argmax(y_pred, axis=1)"
      ],
      "metadata": {
        "id": "qb6xbQR4u2E4"
      },
      "execution_count": null,
      "outputs": []
    },
    {
      "cell_type": "code",
      "source": [
        "print(y_pred.shape, y_pred_.shape, test_y.shape)"
      ],
      "metadata": {
        "id": "6Vk6kl-z4waa"
      },
      "execution_count": null,
      "outputs": []
    },
    {
      "cell_type": "code",
      "source": [
        "#get classification report\n",
        "print(classification_report(y_pred_, test_y))\n",
        "\n",
        "#get confusion matrix\n",
        "print(confusion_matrix(y_pred_, test_y))"
      ],
      "metadata": {
        "id": "n7l0HAxZuzUr"
      },
      "execution_count": null,
      "outputs": []
    },
    {
      "cell_type": "code",
      "source": [
        "import cv2\n",
        "# Tải ảnh vào một mảng NumPy\n",
        "# image = cv2.imread('/content/drive/MyDrive/Colab/Data/train_valid_test/test/B5/B5_0_z5021000001378_1e7342c46548eb446b5a389f07bf35d1.jpg')\n",
        "image = cv2.imread('/content/drive/MyDrive/Colab/Data/train_valid_test/test/B6/B6_4_Image_142030.jpg')\n",
        "image = cv2.resize(image, (224, 224))\n",
        "\n",
        "# Chuẩn hóa ảnh\n",
        "image = image / 255.0\n",
        "\n",
        "# Thêm một chiều lô vào ảnh\n",
        "image = np.expand_dims(image, axis=0)\n",
        "\n",
        "# Dự đoán trên ảnh\n",
        "predictions = model.predict(image)\n",
        "\n",
        "# In các xác suất cho mỗi lớp\n",
        "print(predictions)"
      ],
      "metadata": {
        "id": "l3GyAITFx6Xp"
      },
      "execution_count": null,
      "outputs": []
    }
  ]
}