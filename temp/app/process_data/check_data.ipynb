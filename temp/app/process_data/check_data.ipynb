{
 "cells": [
  {
   "cell_type": "code",
   "execution_count": 1,
   "metadata": {},
   "outputs": [
    {
     "name": "stdout",
     "output_type": "stream",
     "text": [
      "Số lượng tệp trong thư mục là: 103\n"
     ]
    }
   ],
   "source": [
    "import os\n",
    "\n",
    "# Đường dẫn đến thư mục bạn muốn đếm số lượng tệp\n",
    "folder_path = '/mnt/DataK/Project/ThyroidCancer/data/origin_data/B256/B2'\n",
    "\n",
    "# Sử dụng os.listdir() để lấy danh sách các tệp trong thư mục\n",
    "file_list = os.listdir(folder_path)\n",
    "\n",
    "# Sử dụng hàm len() để đếm số lượng tệp\n",
    "num_files = len(file_list)\n",
    "\n",
    "print(\"Số lượng tệp trong thư mục là:\", num_files)\n"
   ]
  },
  {
   "cell_type": "code",
   "execution_count": 2,
   "metadata": {},
   "outputs": [
    {
     "name": "stdout",
     "output_type": "stream",
     "text": [
      "Số lượng tệp trong thư mục là: 541\n"
     ]
    }
   ],
   "source": [
    "import os\n",
    "\n",
    "# Đường dẫn đến thư mục bạn muốn đếm số lượng tệp\n",
    "folder_path = '/mnt/DataK/Project/ThyroidCancer/data/origin_data/B256/B5'\n",
    "\n",
    "# Sử dụng os.listdir() để lấy danh sách các tệp trong thư mục\n",
    "file_list = os.listdir(folder_path)\n",
    "\n",
    "# Sử dụng hàm len() để đếm số lượng tệp\n",
    "num_files = len(file_list)\n",
    "\n",
    "print(\"Số lượng tệp trong thư mục là:\", num_files)"
   ]
  },
  {
   "cell_type": "code",
   "execution_count": 3,
   "metadata": {},
   "outputs": [
    {
     "name": "stdout",
     "output_type": "stream",
     "text": [
      "Số lượng tệp trong thư mục là: 777\n"
     ]
    }
   ],
   "source": [
    "import os\n",
    "\n",
    "# Đường dẫn đến thư mục bạn muốn đếm số lượng tệp\n",
    "folder_path = '/mnt/DataK/Project/ThyroidCancer/data/origin_data/B256/B6'\n",
    "\n",
    "# Sử dụng os.listdir() để lấy danh sách các tệp trong thư mục\n",
    "file_list = os.listdir(folder_path)\n",
    "\n",
    "# Sử dụng hàm len() để đếm số lượng tệp\n",
    "num_files = len(file_list)\n",
    "\n",
    "print(\"Số lượng tệp trong thư mục là:\", num_files)"
   ]
  },
  {
   "cell_type": "code",
   "execution_count": 4,
   "metadata": {},
   "outputs": [
    {
     "name": "stdout",
     "output_type": "stream",
     "text": [
      "Số lượng tệp bắt đầu bằng 'B2' trong thư mục là: 255\n"
     ]
    }
   ],
   "source": [
    "import os\n",
    "\n",
    "# Đường dẫn đến thư mục bạn muốn kiểm tra\n",
    "folder_path = '/mnt/DataK/Project/ThyroidCancer/data/processed_data/patch_level/run'\n",
    "\n",
    "# Sử dụng os.listdir() để lấy danh sách tên của tất cả các tệp trong thư mục\n",
    "file_list = os.listdir(folder_path)\n",
    "\n",
    "# Đếm số lượng tệp với tên bắt đầu bằng 'B2'\n",
    "num_files_starting_with_b2 = sum(1 for file_name in file_list if file_name.startswith('B2'))\n",
    "\n",
    "print(\"Số lượng tệp bắt đầu bằng 'B2' trong thư mục là:\", num_files_starting_with_b2)\n"
   ]
  },
  {
   "cell_type": "code",
   "execution_count": 5,
   "metadata": {},
   "outputs": [
    {
     "name": "stdout",
     "output_type": "stream",
     "text": [
      "Số lượng tệp bắt đầu bằng 'B5' trong thư mục là: 1306\n"
     ]
    }
   ],
   "source": [
    "import os\n",
    "\n",
    "# Đường dẫn đến thư mục bạn muốn kiểm tra\n",
    "folder_path = '/mnt/DataK/Project/ThyroidCancer/data/processed_data/patch_level/run'\n",
    "\n",
    "# Sử dụng os.listdir() để lấy danh sách tên của tất cả các tệp trong thư mục\n",
    "file_list = os.listdir(folder_path)\n",
    "\n",
    "# Đếm số lượng tệp với tên bắt đầu bằng 'B5'\n",
    "num_files_starting_with_b5 = sum(1 for file_name in file_list if file_name.startswith('B5'))\n",
    "\n",
    "print(\"Số lượng tệp bắt đầu bằng 'B5' trong thư mục là:\", num_files_starting_with_b5)\n"
   ]
  },
  {
   "cell_type": "code",
   "execution_count": 6,
   "metadata": {},
   "outputs": [
    {
     "name": "stdout",
     "output_type": "stream",
     "text": [
      "Số lượng tệp bắt đầu bằng 'B6' trong thư mục là: 3381\n"
     ]
    }
   ],
   "source": [
    "import os\n",
    "\n",
    "# Đường dẫn đến thư mục bạn muốn kiểm tra\n",
    "folder_path = '/mnt/DataK/Project/ThyroidCancer/data/processed_data/patch_level/run'\n",
    "\n",
    "# Sử dụng os.listdir() để lấy danh sách tên của tất cả các tệp trong thư mục\n",
    "file_list = os.listdir(folder_path)\n",
    "\n",
    "# Đếm số lượng tệp với tên bắt đầu bằng 'B6'\n",
    "num_files_starting_with_b6 = sum(1 for file_name in file_list if file_name.startswith('B6'))\n",
    "\n",
    "print(\"Số lượng tệp bắt đầu bằng 'B6' trong thư mục là:\", num_files_starting_with_b6)\n"
   ]
  },
  {
   "cell_type": "code",
   "execution_count": 18,
   "metadata": {},
   "outputs": [
    {
     "name": "stdout",
     "output_type": "stream",
     "text": [
      "Số lượng tệp trong thư mục là: 497\n"
     ]
    }
   ],
   "source": [
    "import os\n",
    "\n",
    "# Đường dẫn đến thư mục bạn muốn đếm số lượng tệp\n",
    "folder_path = '/mnt/DataK/Project/ThyroidCancer/data/processed_data/patch_level/train_valid_test_20_03_2024/test/B2'\n",
    "\n",
    "# Sử dụng os.listdir() để lấy danh sách các tệp trong thư mục\n",
    "file_list = os.listdir(folder_path)\n",
    "\n",
    "# Sử dụng hàm len() để đếm số lượng tệp\n",
    "num_files = len(file_list)\n",
    "\n",
    "print(\"Số lượng tệp trong thư mục là:\", num_files)"
   ]
  }
 ],
 "metadata": {
  "kernelspec": {
   "display_name": "py",
   "language": "python",
   "name": "python3"
  },
  "language_info": {
   "codemirror_mode": {
    "name": "ipython",
    "version": 3
   },
   "file_extension": ".py",
   "mimetype": "text/x-python",
   "name": "python",
   "nbconvert_exporter": "python",
   "pygments_lexer": "ipython3",
   "version": "3.11.8"
  }
 },
 "nbformat": 4,
 "nbformat_minor": 2
}
